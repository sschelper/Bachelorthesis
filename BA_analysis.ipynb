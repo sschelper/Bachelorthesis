{
 "cells": [
  {
   "cell_type": "markdown",
   "id": "c10ce579",
   "metadata": {},
   "source": [
    "# Meditation study - data analysis\n",
    "\n",
    "In this notebook, the data from the meditation study is analyzed according to the following structure:\n",
    "\n",
    "1. Group size equivalence and demographic homogeneity\n",
    "2. Descriptive analysis\n",
    "3. Statistical analysis\n",
    "4. Exploratory analysis"
   ]
  },
  {
   "cell_type": "markdown",
   "id": "00644c6b",
   "metadata": {},
   "source": [
    "---"
   ]
  },
  {
   "cell_type": "markdown",
   "id": "6444029b",
   "metadata": {},
   "source": [
    "## Import libraries"
   ]
  },
  {
   "cell_type": "code",
   "execution_count": 1,
   "id": "4788923b",
   "metadata": {},
   "outputs": [],
   "source": [
    "import numpy as np\n",
    "import pandas as pd\n",
    "import statsmodels.stats.power as smp\n",
    "import statsmodels.api as sm\n",
    "from statsmodels.formula.api import ols\n",
    "from scipy import stats\n",
    "from scipy.stats import chi2_contingency\n",
    "from scipy.stats import shapiro\n",
    "from scipy.stats import mannwhitneyu\n",
    "import matplotlib.pyplot as plt\n",
    "import matplotlib.colors as mcolors\n",
    "import seaborn as sns"
   ]
  },
  {
   "cell_type": "markdown",
   "id": "b05b53a3",
   "metadata": {},
   "source": [
    "---"
   ]
  },
  {
   "cell_type": "markdown",
   "id": "c8a00b8d",
   "metadata": {},
   "source": [
    "## Load data\n",
    "The pre-processed data set is saved in a dataframe `sart_data`."
   ]
  },
  {
   "cell_type": "code",
   "execution_count": 2,
   "id": "e94bba1e",
   "metadata": {},
   "outputs": [
    {
     "data": {
      "text/html": [
       "<div>\n",
       "<style scoped>\n",
       "    .dataframe tbody tr th:only-of-type {\n",
       "        vertical-align: middle;\n",
       "    }\n",
       "\n",
       "    .dataframe tbody tr th {\n",
       "        vertical-align: top;\n",
       "    }\n",
       "\n",
       "    .dataframe thead th {\n",
       "        text-align: right;\n",
       "    }\n",
       "</style>\n",
       "<table border=\"1\" class=\"dataframe\">\n",
       "  <thead>\n",
       "    <tr style=\"text-align: right;\">\n",
       "      <th></th>\n",
       "      <th>participant</th>\n",
       "      <th>age</th>\n",
       "      <th>gender</th>\n",
       "      <th>qualification</th>\n",
       "      <th>employment</th>\n",
       "      <th>screentime</th>\n",
       "      <th>socialmedia</th>\n",
       "      <th>computergames</th>\n",
       "      <th>exercise</th>\n",
       "      <th>sleep</th>\n",
       "      <th>...</th>\n",
       "      <th>experience</th>\n",
       "      <th>style</th>\n",
       "      <th>om_errors</th>\n",
       "      <th>com_errors</th>\n",
       "      <th>com_errors_1</th>\n",
       "      <th>com_errors_2</th>\n",
       "      <th>com_errors_3</th>\n",
       "      <th>anticipations</th>\n",
       "      <th>mean_RT</th>\n",
       "      <th>sd_RT</th>\n",
       "    </tr>\n",
       "  </thead>\n",
       "  <tbody>\n",
       "    <tr>\n",
       "      <th>0</th>\n",
       "      <td>7bc52b6a-8df7-49ae-934a-d75c152a38d8.txt</td>\n",
       "      <td>2</td>\n",
       "      <td>1</td>\n",
       "      <td>2</td>\n",
       "      <td>student</td>\n",
       "      <td>3.0</td>\n",
       "      <td>1.0</td>\n",
       "      <td>1</td>\n",
       "      <td>4</td>\n",
       "      <td>3</td>\n",
       "      <td>...</td>\n",
       "      <td>4</td>\n",
       "      <td>CDM</td>\n",
       "      <td>0</td>\n",
       "      <td>9</td>\n",
       "      <td>3</td>\n",
       "      <td>2</td>\n",
       "      <td>4</td>\n",
       "      <td>83</td>\n",
       "      <td>137.655</td>\n",
       "      <td>85.220690</td>\n",
       "    </tr>\n",
       "    <tr>\n",
       "      <th>1</th>\n",
       "      <td>5b365e94-8417-43b4-862c-40150a86ae5b.txt</td>\n",
       "      <td>2</td>\n",
       "      <td>1</td>\n",
       "      <td>2</td>\n",
       "      <td>student</td>\n",
       "      <td>3.0</td>\n",
       "      <td>0.0</td>\n",
       "      <td>2</td>\n",
       "      <td>4</td>\n",
       "      <td>3</td>\n",
       "      <td>...</td>\n",
       "      <td>2</td>\n",
       "      <td>CDM</td>\n",
       "      <td>1</td>\n",
       "      <td>8</td>\n",
       "      <td>1</td>\n",
       "      <td>5</td>\n",
       "      <td>2</td>\n",
       "      <td>145</td>\n",
       "      <td>92.170</td>\n",
       "      <td>104.255077</td>\n",
       "    </tr>\n",
       "    <tr>\n",
       "      <th>2</th>\n",
       "      <td>be79b70a-dd75-4d1b-ac0f-ac66abec67a4.txt</td>\n",
       "      <td>2</td>\n",
       "      <td>2</td>\n",
       "      <td>2</td>\n",
       "      <td>student</td>\n",
       "      <td>2.0</td>\n",
       "      <td>2.0</td>\n",
       "      <td>3</td>\n",
       "      <td>3</td>\n",
       "      <td>3</td>\n",
       "      <td>...</td>\n",
       "      <td>3</td>\n",
       "      <td>CDM</td>\n",
       "      <td>0</td>\n",
       "      <td>12</td>\n",
       "      <td>5</td>\n",
       "      <td>4</td>\n",
       "      <td>3</td>\n",
       "      <td>82</td>\n",
       "      <td>132.105</td>\n",
       "      <td>75.499761</td>\n",
       "    </tr>\n",
       "    <tr>\n",
       "      <th>3</th>\n",
       "      <td>f55c07cf-a046-4c4f-9283-652d1e529dc0.txt</td>\n",
       "      <td>3</td>\n",
       "      <td>1</td>\n",
       "      <td>2</td>\n",
       "      <td>part-time+student</td>\n",
       "      <td>7.0</td>\n",
       "      <td>6.0</td>\n",
       "      <td>2</td>\n",
       "      <td>3</td>\n",
       "      <td>3</td>\n",
       "      <td>...</td>\n",
       "      <td>2</td>\n",
       "      <td>NDM</td>\n",
       "      <td>2</td>\n",
       "      <td>4</td>\n",
       "      <td>1</td>\n",
       "      <td>1</td>\n",
       "      <td>2</td>\n",
       "      <td>63</td>\n",
       "      <td>173.190</td>\n",
       "      <td>130.216681</td>\n",
       "    </tr>\n",
       "    <tr>\n",
       "      <th>4</th>\n",
       "      <td>96bf5ec7-406f-4b18-96ec-33f10046b0d5.txt</td>\n",
       "      <td>2</td>\n",
       "      <td>1</td>\n",
       "      <td>2</td>\n",
       "      <td>student</td>\n",
       "      <td>4.0</td>\n",
       "      <td>2.0</td>\n",
       "      <td>1</td>\n",
       "      <td>1</td>\n",
       "      <td>4</td>\n",
       "      <td>...</td>\n",
       "      <td>0</td>\n",
       "      <td>Non-Meditators</td>\n",
       "      <td>0</td>\n",
       "      <td>9</td>\n",
       "      <td>1</td>\n",
       "      <td>5</td>\n",
       "      <td>3</td>\n",
       "      <td>117</td>\n",
       "      <td>119.695</td>\n",
       "      <td>87.188715</td>\n",
       "    </tr>\n",
       "    <tr>\n",
       "      <th>...</th>\n",
       "      <td>...</td>\n",
       "      <td>...</td>\n",
       "      <td>...</td>\n",
       "      <td>...</td>\n",
       "      <td>...</td>\n",
       "      <td>...</td>\n",
       "      <td>...</td>\n",
       "      <td>...</td>\n",
       "      <td>...</td>\n",
       "      <td>...</td>\n",
       "      <td>...</td>\n",
       "      <td>...</td>\n",
       "      <td>...</td>\n",
       "      <td>...</td>\n",
       "      <td>...</td>\n",
       "      <td>...</td>\n",
       "      <td>...</td>\n",
       "      <td>...</td>\n",
       "      <td>...</td>\n",
       "      <td>...</td>\n",
       "      <td>...</td>\n",
       "    </tr>\n",
       "    <tr>\n",
       "      <th>135</th>\n",
       "      <td>44c76f29-0a42-4c3c-a182-24db2b3e9b18.txt</td>\n",
       "      <td>2</td>\n",
       "      <td>1</td>\n",
       "      <td>2</td>\n",
       "      <td>student</td>\n",
       "      <td>5.0</td>\n",
       "      <td>4.5</td>\n",
       "      <td>2</td>\n",
       "      <td>3</td>\n",
       "      <td>3</td>\n",
       "      <td>...</td>\n",
       "      <td>0</td>\n",
       "      <td>Non-Meditators</td>\n",
       "      <td>0</td>\n",
       "      <td>13</td>\n",
       "      <td>4</td>\n",
       "      <td>5</td>\n",
       "      <td>4</td>\n",
       "      <td>121</td>\n",
       "      <td>114.405</td>\n",
       "      <td>79.601388</td>\n",
       "    </tr>\n",
       "    <tr>\n",
       "      <th>136</th>\n",
       "      <td>7e15f090-b453-4393-8ebd-d4e6b552bbe1.txt</td>\n",
       "      <td>2</td>\n",
       "      <td>1</td>\n",
       "      <td>4</td>\n",
       "      <td>part-time+student</td>\n",
       "      <td>2.0</td>\n",
       "      <td>2.0</td>\n",
       "      <td>1</td>\n",
       "      <td>4</td>\n",
       "      <td>3</td>\n",
       "      <td>...</td>\n",
       "      <td>2</td>\n",
       "      <td>CDM</td>\n",
       "      <td>1</td>\n",
       "      <td>3</td>\n",
       "      <td>2</td>\n",
       "      <td>0</td>\n",
       "      <td>1</td>\n",
       "      <td>115</td>\n",
       "      <td>105.875</td>\n",
       "      <td>81.814543</td>\n",
       "    </tr>\n",
       "    <tr>\n",
       "      <th>137</th>\n",
       "      <td>fe06bf67-6b0a-4d44-a1a8-a6ff77aaf5da.txt</td>\n",
       "      <td>2</td>\n",
       "      <td>1</td>\n",
       "      <td>2</td>\n",
       "      <td>student</td>\n",
       "      <td>4.0</td>\n",
       "      <td>2.0</td>\n",
       "      <td>1</td>\n",
       "      <td>4</td>\n",
       "      <td>3</td>\n",
       "      <td>...</td>\n",
       "      <td>3</td>\n",
       "      <td>CDM</td>\n",
       "      <td>0</td>\n",
       "      <td>2</td>\n",
       "      <td>1</td>\n",
       "      <td>0</td>\n",
       "      <td>1</td>\n",
       "      <td>27</td>\n",
       "      <td>165.385</td>\n",
       "      <td>70.347898</td>\n",
       "    </tr>\n",
       "    <tr>\n",
       "      <th>138</th>\n",
       "      <td>fe327b9b-c21f-48d1-95cc-aff170ad8a65.txt</td>\n",
       "      <td>2</td>\n",
       "      <td>1</td>\n",
       "      <td>2</td>\n",
       "      <td>student</td>\n",
       "      <td>4.0</td>\n",
       "      <td>3.0</td>\n",
       "      <td>1</td>\n",
       "      <td>4</td>\n",
       "      <td>1</td>\n",
       "      <td>...</td>\n",
       "      <td>0</td>\n",
       "      <td>Non-Meditators</td>\n",
       "      <td>13</td>\n",
       "      <td>15</td>\n",
       "      <td>5</td>\n",
       "      <td>2</td>\n",
       "      <td>8</td>\n",
       "      <td>25</td>\n",
       "      <td>369.565</td>\n",
       "      <td>236.014419</td>\n",
       "    </tr>\n",
       "    <tr>\n",
       "      <th>139</th>\n",
       "      <td>71b85718-1705-47c7-b2e8-623b3ed6dcdb.txt</td>\n",
       "      <td>2</td>\n",
       "      <td>1</td>\n",
       "      <td>2</td>\n",
       "      <td>student</td>\n",
       "      <td>3.0</td>\n",
       "      <td>0.5</td>\n",
       "      <td>1</td>\n",
       "      <td>3</td>\n",
       "      <td>2</td>\n",
       "      <td>...</td>\n",
       "      <td>3</td>\n",
       "      <td>CDM</td>\n",
       "      <td>3</td>\n",
       "      <td>10</td>\n",
       "      <td>6</td>\n",
       "      <td>3</td>\n",
       "      <td>1</td>\n",
       "      <td>96</td>\n",
       "      <td>162.440</td>\n",
       "      <td>145.013056</td>\n",
       "    </tr>\n",
       "  </tbody>\n",
       "</table>\n",
       "<p>140 rows × 23 columns</p>\n",
       "</div>"
      ],
      "text/plain": [
       "                                  participant  age  gender  qualification  \\\n",
       "0    7bc52b6a-8df7-49ae-934a-d75c152a38d8.txt    2       1              2   \n",
       "1    5b365e94-8417-43b4-862c-40150a86ae5b.txt    2       1              2   \n",
       "2    be79b70a-dd75-4d1b-ac0f-ac66abec67a4.txt    2       2              2   \n",
       "3    f55c07cf-a046-4c4f-9283-652d1e529dc0.txt    3       1              2   \n",
       "4    96bf5ec7-406f-4b18-96ec-33f10046b0d5.txt    2       1              2   \n",
       "..                                        ...  ...     ...            ...   \n",
       "135  44c76f29-0a42-4c3c-a182-24db2b3e9b18.txt    2       1              2   \n",
       "136  7e15f090-b453-4393-8ebd-d4e6b552bbe1.txt    2       1              4   \n",
       "137  fe06bf67-6b0a-4d44-a1a8-a6ff77aaf5da.txt    2       1              2   \n",
       "138  fe327b9b-c21f-48d1-95cc-aff170ad8a65.txt    2       1              2   \n",
       "139  71b85718-1705-47c7-b2e8-623b3ed6dcdb.txt    2       1              2   \n",
       "\n",
       "            employment  screentime  socialmedia  computergames  exercise  \\\n",
       "0              student         3.0          1.0              1         4   \n",
       "1              student         3.0          0.0              2         4   \n",
       "2              student         2.0          2.0              3         3   \n",
       "3    part-time+student         7.0          6.0              2         3   \n",
       "4              student         4.0          2.0              1         1   \n",
       "..                 ...         ...          ...            ...       ...   \n",
       "135            student         5.0          4.5              2         3   \n",
       "136  part-time+student         2.0          2.0              1         4   \n",
       "137            student         4.0          2.0              1         4   \n",
       "138            student         4.0          3.0              1         4   \n",
       "139            student         3.0          0.5              1         3   \n",
       "\n",
       "     sleep  ...  experience           style  om_errors  com_errors  \\\n",
       "0        3  ...           4             CDM          0           9   \n",
       "1        3  ...           2             CDM          1           8   \n",
       "2        3  ...           3             CDM          0          12   \n",
       "3        3  ...           2             NDM          2           4   \n",
       "4        4  ...           0  Non-Meditators          0           9   \n",
       "..     ...  ...         ...             ...        ...         ...   \n",
       "135      3  ...           0  Non-Meditators          0          13   \n",
       "136      3  ...           2             CDM          1           3   \n",
       "137      3  ...           3             CDM          0           2   \n",
       "138      1  ...           0  Non-Meditators         13          15   \n",
       "139      2  ...           3             CDM          3          10   \n",
       "\n",
       "    com_errors_1  com_errors_2  com_errors_3  anticipations  mean_RT  \\\n",
       "0              3             2             4             83  137.655   \n",
       "1              1             5             2            145   92.170   \n",
       "2              5             4             3             82  132.105   \n",
       "3              1             1             2             63  173.190   \n",
       "4              1             5             3            117  119.695   \n",
       "..           ...           ...           ...            ...      ...   \n",
       "135            4             5             4            121  114.405   \n",
       "136            2             0             1            115  105.875   \n",
       "137            1             0             1             27  165.385   \n",
       "138            5             2             8             25  369.565   \n",
       "139            6             3             1             96  162.440   \n",
       "\n",
       "          sd_RT  \n",
       "0     85.220690  \n",
       "1    104.255077  \n",
       "2     75.499761  \n",
       "3    130.216681  \n",
       "4     87.188715  \n",
       "..          ...  \n",
       "135   79.601388  \n",
       "136   81.814543  \n",
       "137   70.347898  \n",
       "138  236.014419  \n",
       "139  145.013056  \n",
       "\n",
       "[140 rows x 23 columns]"
      ]
     },
     "execution_count": 2,
     "metadata": {},
     "output_type": "execute_result"
    }
   ],
   "source": [
    "sart_data = pd.read_csv('full_data.csv')\n",
    "sart_data"
   ]
  },
  {
   "cell_type": "markdown",
   "id": "f323532b",
   "metadata": {},
   "source": [
    "---"
   ]
  },
  {
   "cell_type": "markdown",
   "id": "fbb07300",
   "metadata": {},
   "source": [
    "## Group size equivalence and demographic homogeneity\n",
    "### Group size equivalence\n",
    "Determine the number of participants per group."
   ]
  },
  {
   "cell_type": "code",
   "execution_count": 3,
   "id": "5c55209c",
   "metadata": {},
   "outputs": [
    {
     "data": {
      "text/html": [
       "<div>\n",
       "<style scoped>\n",
       "    .dataframe tbody tr th:only-of-type {\n",
       "        vertical-align: middle;\n",
       "    }\n",
       "\n",
       "    .dataframe tbody tr th {\n",
       "        vertical-align: top;\n",
       "    }\n",
       "\n",
       "    .dataframe thead th {\n",
       "        text-align: right;\n",
       "    }\n",
       "</style>\n",
       "<table border=\"1\" class=\"dataframe\">\n",
       "  <thead>\n",
       "    <tr style=\"text-align: right;\">\n",
       "      <th></th>\n",
       "      <th>style</th>\n",
       "      <th>Count</th>\n",
       "    </tr>\n",
       "  </thead>\n",
       "  <tbody>\n",
       "    <tr>\n",
       "      <th>0</th>\n",
       "      <td>ADM</td>\n",
       "      <td>4</td>\n",
       "    </tr>\n",
       "    <tr>\n",
       "      <th>1</th>\n",
       "      <td>CDM</td>\n",
       "      <td>62</td>\n",
       "    </tr>\n",
       "    <tr>\n",
       "      <th>2</th>\n",
       "      <td>NDM</td>\n",
       "      <td>4</td>\n",
       "    </tr>\n",
       "    <tr>\n",
       "      <th>3</th>\n",
       "      <td>Non-Meditators</td>\n",
       "      <td>70</td>\n",
       "    </tr>\n",
       "  </tbody>\n",
       "</table>\n",
       "</div>"
      ],
      "text/plain": [
       "            style  Count\n",
       "0             ADM      4\n",
       "1             CDM     62\n",
       "2             NDM      4\n",
       "3  Non-Meditators     70"
      ]
     },
     "execution_count": 3,
     "metadata": {},
     "output_type": "execute_result"
    }
   ],
   "source": [
    "# Group participants per group\n",
    "exp_groups = sart_data.groupby(['style'], sort=True).size().reset_index(name='Count')\n",
    "exp_groups"
   ]
  },
  {
   "cell_type": "markdown",
   "id": "887edd8d",
   "metadata": {},
   "source": [
    "The ADM and NDM groups have an insufficient number of participants (4 each).\n",
    "\n",
    "Since many statistical tests require balanced group sizes, the data from these two groups are removed and not considered for further analysis."
   ]
  },
  {
   "cell_type": "code",
   "execution_count": 4,
   "id": "b5e01f94",
   "metadata": {},
   "outputs": [],
   "source": [
    "# Remove data from ADM and NDM participants\n",
    "sart_data = sart_data.drop(sart_data[sart_data['style'] == 'ADM'].index)\n",
    "sart_data = sart_data.drop(sart_data[sart_data['style'] == 'NDM'].index)"
   ]
  },
  {
   "cell_type": "code",
   "execution_count": 5,
   "id": "4e0ba59f",
   "metadata": {
    "scrolled": true
   },
   "outputs": [
    {
     "data": {
      "text/html": [
       "<div>\n",
       "<style scoped>\n",
       "    .dataframe tbody tr th:only-of-type {\n",
       "        vertical-align: middle;\n",
       "    }\n",
       "\n",
       "    .dataframe tbody tr th {\n",
       "        vertical-align: top;\n",
       "    }\n",
       "\n",
       "    .dataframe thead th {\n",
       "        text-align: right;\n",
       "    }\n",
       "</style>\n",
       "<table border=\"1\" class=\"dataframe\">\n",
       "  <thead>\n",
       "    <tr style=\"text-align: right;\">\n",
       "      <th></th>\n",
       "      <th>style</th>\n",
       "      <th>Count</th>\n",
       "    </tr>\n",
       "  </thead>\n",
       "  <tbody>\n",
       "    <tr>\n",
       "      <th>0</th>\n",
       "      <td>CDM</td>\n",
       "      <td>62</td>\n",
       "    </tr>\n",
       "    <tr>\n",
       "      <th>1</th>\n",
       "      <td>Non-Meditators</td>\n",
       "      <td>70</td>\n",
       "    </tr>\n",
       "  </tbody>\n",
       "</table>\n",
       "</div>"
      ],
      "text/plain": [
       "            style  Count\n",
       "0             CDM     62\n",
       "1  Non-Meditators     70"
      ]
     },
     "execution_count": 5,
     "metadata": {},
     "output_type": "execute_result"
    }
   ],
   "source": [
    "# Participants per group after dropping ADM and NDM meditators\n",
    "exp_groups = sart_data.groupby(['style'], sort=True).size().reset_index(name='Count')\n",
    "exp_groups"
   ]
  },
  {
   "cell_type": "markdown",
   "id": "8b3b82a0",
   "metadata": {},
   "source": [
    "The sample sizes of the CDM and non-meditator groups are sufficient and comparable.\n",
    "\n",
    "For further analysis, only meditators practicing cognitive-directed methods (CDM) and non-meditators (NM) will be considered."
   ]
  },
  {
   "cell_type": "markdown",
   "id": "db1a7cc3",
   "metadata": {},
   "source": [
    "### Demographic homogeneity¶\n",
    "Verify that `age`, `gender`, `qualification`, and `employment` are homogeneous between the two groups.\n",
    "#### Age distribution per group\n",
    "Inspect the frequencies with a contingency table."
   ]
  },
  {
   "cell_type": "code",
   "execution_count": 6,
   "id": "93e972d9",
   "metadata": {},
   "outputs": [
    {
     "data": {
      "text/html": [
       "<div>\n",
       "<style scoped>\n",
       "    .dataframe tbody tr th:only-of-type {\n",
       "        vertical-align: middle;\n",
       "    }\n",
       "\n",
       "    .dataframe tbody tr th {\n",
       "        vertical-align: top;\n",
       "    }\n",
       "\n",
       "    .dataframe thead th {\n",
       "        text-align: right;\n",
       "    }\n",
       "</style>\n",
       "<table border=\"1\" class=\"dataframe\">\n",
       "  <thead>\n",
       "    <tr style=\"text-align: right;\">\n",
       "      <th>age</th>\n",
       "      <th>2</th>\n",
       "      <th>3</th>\n",
       "      <th>6</th>\n",
       "    </tr>\n",
       "    <tr>\n",
       "      <th>style</th>\n",
       "      <th></th>\n",
       "      <th></th>\n",
       "      <th></th>\n",
       "    </tr>\n",
       "  </thead>\n",
       "  <tbody>\n",
       "    <tr>\n",
       "      <th>CDM</th>\n",
       "      <td>52</td>\n",
       "      <td>8</td>\n",
       "      <td>2</td>\n",
       "    </tr>\n",
       "    <tr>\n",
       "      <th>Non-Meditators</th>\n",
       "      <td>52</td>\n",
       "      <td>17</td>\n",
       "      <td>1</td>\n",
       "    </tr>\n",
       "  </tbody>\n",
       "</table>\n",
       "</div>"
      ],
      "text/plain": [
       "age              2   3  6\n",
       "style                    \n",
       "CDM             52   8  2\n",
       "Non-Meditators  52  17  1"
      ]
     },
     "execution_count": 6,
     "metadata": {},
     "output_type": "execute_result"
    }
   ],
   "source": [
    "crosstab_age = pd.crosstab(sart_data['style'], sart_data['age'])\n",
    "crosstab_age"
   ]
  },
  {
   "cell_type": "markdown",
   "id": "b9963141",
   "metadata": {},
   "source": [
    "#### Mann-Whitney *U* test\n",
    "From the contingency table it can be seen that the data is not normally distributed. Therefore, to test if there is a significant difference in the ordinal variable `age` between the two groups, the Mann-Whitney *U* test (a non-parametric test) is used."
   ]
  },
  {
   "cell_type": "code",
   "execution_count": 7,
   "id": "0bb92126",
   "metadata": {},
   "outputs": [
    {
     "name": "stdout",
     "output_type": "stream",
     "text": [
      "Mann-Whitney U Statistic: 1975.0\n",
      "P-value: 0.21166596588820585\n"
     ]
    }
   ],
   "source": [
    "# Separate data into two groups\n",
    "CDM_age = sart_data[sart_data['style'] == 'CDM']['age']\n",
    "NM_age = sart_data[sart_data['style'] == 'Non-Meditators']['age']\n",
    "\n",
    "# Perform the Mann-Whitney U test\n",
    "u_statistic, p_value = stats.mannwhitneyu(CDM_age, NM_age)\n",
    "\n",
    "print(f\"Mann-Whitney U Statistic: {u_statistic}\")\n",
    "print(f\"P-value: {p_value}\")"
   ]
  },
  {
   "cell_type": "markdown",
   "id": "ebf5eb82",
   "metadata": {},
   "source": [
    "The p-value is greater than the common significance level of 0.05. Therefore, it can be concluded that there is **no significant difference in the age distribution** between the two groups."
   ]
  },
  {
   "cell_type": "markdown",
   "id": "cf57bd32",
   "metadata": {},
   "source": [
    "#### Gender distribution per group\n",
    "Inspect the frequencies with a contingency table."
   ]
  },
  {
   "cell_type": "code",
   "execution_count": 8,
   "id": "e2b168ce",
   "metadata": {
    "scrolled": true
   },
   "outputs": [
    {
     "data": {
      "text/html": [
       "<div>\n",
       "<style scoped>\n",
       "    .dataframe tbody tr th:only-of-type {\n",
       "        vertical-align: middle;\n",
       "    }\n",
       "\n",
       "    .dataframe tbody tr th {\n",
       "        vertical-align: top;\n",
       "    }\n",
       "\n",
       "    .dataframe thead th {\n",
       "        text-align: right;\n",
       "    }\n",
       "</style>\n",
       "<table border=\"1\" class=\"dataframe\">\n",
       "  <thead>\n",
       "    <tr style=\"text-align: right;\">\n",
       "      <th>gender</th>\n",
       "      <th>1</th>\n",
       "      <th>2</th>\n",
       "      <th>3</th>\n",
       "    </tr>\n",
       "    <tr>\n",
       "      <th>style</th>\n",
       "      <th></th>\n",
       "      <th></th>\n",
       "      <th></th>\n",
       "    </tr>\n",
       "  </thead>\n",
       "  <tbody>\n",
       "    <tr>\n",
       "      <th>CDM</th>\n",
       "      <td>41</td>\n",
       "      <td>20</td>\n",
       "      <td>1</td>\n",
       "    </tr>\n",
       "    <tr>\n",
       "      <th>Non-Meditators</th>\n",
       "      <td>56</td>\n",
       "      <td>14</td>\n",
       "      <td>0</td>\n",
       "    </tr>\n",
       "  </tbody>\n",
       "</table>\n",
       "</div>"
      ],
      "text/plain": [
       "gender           1   2  3\n",
       "style                    \n",
       "CDM             41  20  1\n",
       "Non-Meditators  56  14  0"
      ]
     },
     "execution_count": 8,
     "metadata": {},
     "output_type": "execute_result"
    }
   ],
   "source": [
    "crosstab_gender = pd.crosstab(sart_data['style'], sart_data['gender'])\n",
    "crosstab_gender"
   ]
  },
  {
   "cell_type": "markdown",
   "id": "5a406a10",
   "metadata": {},
   "source": [
    "#### Chi-squared-test\n",
    "To test if there is a significant difference in the categorical variable `gender` between the two groups, the chi-squared test is used."
   ]
  },
  {
   "cell_type": "code",
   "execution_count": 9,
   "id": "4883b446",
   "metadata": {
    "scrolled": true
   },
   "outputs": [
    {
     "name": "stdout",
     "output_type": "stream",
     "text": [
      "Chi-squared Statistic: 3.907916821534069\n",
      "P-value: 0.14171200554772384\n",
      "Degrees of Freedom: 2\n",
      "Expected Frequencies:\n",
      "[[45.56060606 15.96969697  0.46969697]\n",
      " [51.43939394 18.03030303  0.53030303]]\n"
     ]
    }
   ],
   "source": [
    "# Perform Chi-squared test\n",
    "chi2, p, df, expected = chi2_contingency(crosstab_gender)\n",
    "\n",
    "print(f\"Chi-squared Statistic: {chi2}\")\n",
    "print(f\"P-value: {p}\")\n",
    "print(f\"Degrees of Freedom: {df}\")\n",
    "print(\"Expected Frequencies:\")\n",
    "print(expected)"
   ]
  },
  {
   "cell_type": "markdown",
   "id": "f1f05e4a",
   "metadata": {},
   "source": [
    "The p-value is greater than the common significance level of 0.05. Therefore, it can be concluded that there is **no significant difference in the gender distribution** between the two groups."
   ]
  },
  {
   "cell_type": "markdown",
   "id": "9e1cc593",
   "metadata": {},
   "source": [
    "#### Qualification distribution per group\n",
    "Inspect the frequencies with a contingency table."
   ]
  },
  {
   "cell_type": "code",
   "execution_count": 10,
   "id": "bfac2ab1",
   "metadata": {
    "scrolled": false
   },
   "outputs": [
    {
     "data": {
      "text/html": [
       "<div>\n",
       "<style scoped>\n",
       "    .dataframe tbody tr th:only-of-type {\n",
       "        vertical-align: middle;\n",
       "    }\n",
       "\n",
       "    .dataframe tbody tr th {\n",
       "        vertical-align: top;\n",
       "    }\n",
       "\n",
       "    .dataframe thead th {\n",
       "        text-align: right;\n",
       "    }\n",
       "</style>\n",
       "<table border=\"1\" class=\"dataframe\">\n",
       "  <thead>\n",
       "    <tr style=\"text-align: right;\">\n",
       "      <th>qualification</th>\n",
       "      <th>1</th>\n",
       "      <th>2</th>\n",
       "      <th>3</th>\n",
       "      <th>4</th>\n",
       "      <th>5</th>\n",
       "    </tr>\n",
       "    <tr>\n",
       "      <th>style</th>\n",
       "      <th></th>\n",
       "      <th></th>\n",
       "      <th></th>\n",
       "      <th></th>\n",
       "      <th></th>\n",
       "    </tr>\n",
       "  </thead>\n",
       "  <tbody>\n",
       "    <tr>\n",
       "      <th>CDM</th>\n",
       "      <td>0</td>\n",
       "      <td>55</td>\n",
       "      <td>1</td>\n",
       "      <td>5</td>\n",
       "      <td>1</td>\n",
       "    </tr>\n",
       "    <tr>\n",
       "      <th>Non-Meditators</th>\n",
       "      <td>2</td>\n",
       "      <td>51</td>\n",
       "      <td>4</td>\n",
       "      <td>7</td>\n",
       "      <td>6</td>\n",
       "    </tr>\n",
       "  </tbody>\n",
       "</table>\n",
       "</div>"
      ],
      "text/plain": [
       "qualification   1   2  3  4  5\n",
       "style                         \n",
       "CDM             0  55  1  5  1\n",
       "Non-Meditators  2  51  4  7  6"
      ]
     },
     "execution_count": 10,
     "metadata": {},
     "output_type": "execute_result"
    }
   ],
   "source": [
    "crosstab_quali = pd.crosstab(sart_data['style'], sart_data['qualification'])\n",
    "crosstab_quali"
   ]
  },
  {
   "cell_type": "markdown",
   "id": "f4173cf6",
   "metadata": {},
   "source": [
    "#### Chi-squared-test\n",
    "To test if there is a significant difference in the categorical variable `qualification` between the two groups, the chi-squared test is used."
   ]
  },
  {
   "cell_type": "code",
   "execution_count": 11,
   "id": "56626fb7",
   "metadata": {
    "scrolled": true
   },
   "outputs": [
    {
     "name": "stdout",
     "output_type": "stream",
     "text": [
      "Chi-squared Statistic: 7.398030481821458\n",
      "P-value: 0.11629068963883346\n",
      "Degrees of Freedom: 4\n",
      "Expected Frequencies:\n",
      "[[ 0.93939394 49.78787879  2.34848485  5.63636364  3.28787879]\n",
      " [ 1.06060606 56.21212121  2.65151515  6.36363636  3.71212121]]\n"
     ]
    }
   ],
   "source": [
    "# Perform Chi-squared test\n",
    "chi2, p, df, expected = chi2_contingency(crosstab_quali)\n",
    "\n",
    "print(f\"Chi-squared Statistic: {chi2}\")\n",
    "print(f\"P-value: {p}\")\n",
    "print(f\"Degrees of Freedom: {df}\")\n",
    "print(\"Expected Frequencies:\")\n",
    "print(expected)"
   ]
  },
  {
   "cell_type": "markdown",
   "id": "3c1bff75",
   "metadata": {},
   "source": [
    "The p-value is greater than the common significance level of 0.05. Therefore, it can be concluded that there is **no significant difference in the qualification distribution** between the two groups."
   ]
  },
  {
   "cell_type": "markdown",
   "id": "a0e8f7ac",
   "metadata": {},
   "source": [
    "#### Employment distribution per group\n",
    "Inspect the frequencies with a contingency table."
   ]
  },
  {
   "cell_type": "code",
   "execution_count": 12,
   "id": "9b0f2f76",
   "metadata": {
    "scrolled": false
   },
   "outputs": [
    {
     "data": {
      "text/html": [
       "<div>\n",
       "<style scoped>\n",
       "    .dataframe tbody tr th:only-of-type {\n",
       "        vertical-align: middle;\n",
       "    }\n",
       "\n",
       "    .dataframe tbody tr th {\n",
       "        vertical-align: top;\n",
       "    }\n",
       "\n",
       "    .dataframe thead th {\n",
       "        text-align: right;\n",
       "    }\n",
       "</style>\n",
       "<table border=\"1\" class=\"dataframe\">\n",
       "  <thead>\n",
       "    <tr style=\"text-align: right;\">\n",
       "      <th>employment</th>\n",
       "      <th>full-time</th>\n",
       "      <th>part-time</th>\n",
       "      <th>part-time+student</th>\n",
       "      <th>self-employed</th>\n",
       "      <th>self-employed+student</th>\n",
       "      <th>student</th>\n",
       "      <th>student+other</th>\n",
       "      <th>unemployed</th>\n",
       "    </tr>\n",
       "    <tr>\n",
       "      <th>style</th>\n",
       "      <th></th>\n",
       "      <th></th>\n",
       "      <th></th>\n",
       "      <th></th>\n",
       "      <th></th>\n",
       "      <th></th>\n",
       "      <th></th>\n",
       "      <th></th>\n",
       "    </tr>\n",
       "  </thead>\n",
       "  <tbody>\n",
       "    <tr>\n",
       "      <th>CDM</th>\n",
       "      <td>0</td>\n",
       "      <td>3</td>\n",
       "      <td>9</td>\n",
       "      <td>1</td>\n",
       "      <td>2</td>\n",
       "      <td>45</td>\n",
       "      <td>2</td>\n",
       "      <td>0</td>\n",
       "    </tr>\n",
       "    <tr>\n",
       "      <th>Non-Meditators</th>\n",
       "      <td>3</td>\n",
       "      <td>1</td>\n",
       "      <td>9</td>\n",
       "      <td>1</td>\n",
       "      <td>1</td>\n",
       "      <td>53</td>\n",
       "      <td>0</td>\n",
       "      <td>2</td>\n",
       "    </tr>\n",
       "  </tbody>\n",
       "</table>\n",
       "</div>"
      ],
      "text/plain": [
       "employment      full-time  part-time  part-time+student  self-employed  \\\n",
       "style                                                                    \n",
       "CDM                     0          3                  9              1   \n",
       "Non-Meditators          3          1                  9              1   \n",
       "\n",
       "employment      self-employed+student  student  student+other  unemployed  \n",
       "style                                                                      \n",
       "CDM                                 2       45              2           0  \n",
       "Non-Meditators                      1       53              0           2  "
      ]
     },
     "execution_count": 12,
     "metadata": {},
     "output_type": "execute_result"
    }
   ],
   "source": [
    "crosstab_employ = pd.crosstab(sart_data['style'], sart_data['employment'])\n",
    "crosstab_employ"
   ]
  },
  {
   "cell_type": "markdown",
   "id": "1d0256fd",
   "metadata": {},
   "source": [
    "#### Chi-squared-test\n",
    "To test if there is a significant difference in the categorical variable `employment` between the two groups, the chi-squared test is used."
   ]
  },
  {
   "cell_type": "code",
   "execution_count": 13,
   "id": "1d3ac65f",
   "metadata": {
    "scrolled": true
   },
   "outputs": [
    {
     "name": "stdout",
     "output_type": "stream",
     "text": [
      "Chi-squared Statistic: 8.532888178312799\n",
      "P-value: 0.2879534544742554\n",
      "Degrees of Freedom: 7\n",
      "Expected Frequencies:\n",
      "[[ 1.40909091  1.87878788  8.45454545  0.93939394  1.40909091 46.03030303\n",
      "   0.93939394  0.93939394]\n",
      " [ 1.59090909  2.12121212  9.54545455  1.06060606  1.59090909 51.96969697\n",
      "   1.06060606  1.06060606]]\n"
     ]
    }
   ],
   "source": [
    "# Perform Chi-squared test\n",
    "chi2, p, df, expected = chi2_contingency(crosstab_employ)\n",
    "\n",
    "print(f\"Chi-squared Statistic: {chi2}\")\n",
    "print(f\"P-value: {p}\")\n",
    "print(f\"Degrees of Freedom: {df}\")\n",
    "print(\"Expected Frequencies:\")\n",
    "print(expected)"
   ]
  },
  {
   "cell_type": "markdown",
   "id": "4d070510",
   "metadata": {},
   "source": [
    "The p-value is greater than the common significance level of 0.05. Therefore, it can be concluded that there is **no significant difference in the employment distribution** between the two groups."
   ]
  },
  {
   "cell_type": "markdown",
   "id": "b88a3994",
   "metadata": {},
   "source": [
    "---"
   ]
  },
  {
   "cell_type": "markdown",
   "id": "660156bc",
   "metadata": {},
   "source": [
    "## Descriptive analysis \n",
    "### Metrics per group\n",
    "#### Boxplots showing the median omission errors, commission errors, anticipations, and RT per group as well as variability and outliers"
   ]
  },
  {
   "cell_type": "code",
   "execution_count": 14,
   "id": "dcb66c97",
   "metadata": {
    "scrolled": false
   },
   "outputs": [
    {
     "data": {
      "image/png": "[encoded data removed]",
      "text/plain": [
       "<Figure size 864x432 with 4 Axes>"
      ]
     },
     "metadata": {
      "needs_background": "light"
     },
     "output_type": "display_data"
    }
   ],
   "source": [
    "# Set up the matplotlib figure\n",
    "plt.figure(figsize=(12, 6))\n",
    "\n",
    "# Create a boxplot for omission Errors\n",
    "plt.subplot(2, 2, 1)\n",
    "sns.boxplot(x='style', y='om_errors', data=sart_data, color='tab:blue')\n",
    "plt.title('Omission errors per group')\n",
    "plt.xlabel('Group')\n",
    "plt.ylabel('Omission errors')\n",
    "\n",
    "# Create a boxplot for commission Errors\n",
    "plt.subplot(2, 2, 2)\n",
    "sns.boxplot(x='style', y='com_errors', data=sart_data, color='tab:blue')\n",
    "plt.title('Commission errors per group')\n",
    "plt.xlabel('Group')\n",
    "plt.ylabel('Commission errors')\n",
    "\n",
    "# Create a boxplot for anticipations\n",
    "plt.subplot(2, 2, 3)\n",
    "sns.boxplot(x='style', y='anticipations', data=sart_data, color='tab:blue')\n",
    "plt.title('Anticipations per group')\n",
    "plt.xlabel('Group')\n",
    "plt.ylabel('Anticipations')\n",
    "\n",
    "# Create a boxplot for mean RT\n",
    "plt.subplot(2, 2, 4)\n",
    "sns.boxplot(x='style', y='mean_RT', data=sart_data, color='tab:blue')\n",
    "plt.title('Mean RT per group')\n",
    "plt.xlabel('Group')\n",
    "plt.ylabel('Mean RT')\n",
    "\n",
    "# Adjust layout\n",
    "plt.tight_layout()\n",
    "\n",
    "# Save the plot as a PDF file\n",
    "plt.savefig('boxplots.pdf')\n",
    "\n",
    "# Show the plot\n",
    "plt.show()"
   ]
  },
  {
   "cell_type": "markdown",
   "id": "9e702ec6",
   "metadata": {},
   "source": [
    "#### Graphic overview of the mean comission errors for each part of the experiment per group"
   ]
  },
  {
   "cell_type": "code",
   "execution_count": 15,
   "id": "50c8a97c",
   "metadata": {},
   "outputs": [
    {
     "data": {
      "image/png": "[encoded data removed]",
      "text/plain": [
       "<Figure size 432x288 with 1 Axes>"
      ]
     },
     "metadata": {
      "needs_background": "light"
     },
     "output_type": "display_data"
    }
   ],
   "source": [
    "# Calculate the mean of com_errors_1, com_errors_2, and com_errors_3 for each group\n",
    "grouped_data = sart_data.groupby('style')[['com_errors_1', 'com_errors_2', 'com_errors_3']].mean().reset_index()\n",
    "\n",
    "# Plotting a bar chart\n",
    "n_groups = 2\n",
    "\n",
    "fig, ax = plt.subplots()\n",
    "\n",
    "# Define the bar width\n",
    "index = np.arange(n_groups)\n",
    "bar_width = 0.3\n",
    "\n",
    "# Adjust error bar properties\n",
    "error_config = {'ecolor': '0.3'}\n",
    "\n",
    "# Create bars for each com error\n",
    "rects1 = ax.bar(index, grouped_data['com_errors_1'], bar_width,\n",
    "                color='tab:blue',\n",
    "                error_kw=error_config,\n",
    "                label='Commission errors 1')\n",
    "\n",
    "rects2 = ax.bar(index + bar_width, grouped_data['com_errors_2'], bar_width,\n",
    "                color='tab:orange',\n",
    "                error_kw=error_config,\n",
    "                label='Commission errors 2')\n",
    "\n",
    "rects2 = ax.bar(index + (2*bar_width), grouped_data['com_errors_3'], bar_width,\n",
    "                color='tab:green',\n",
    "                error_kw=error_config,\n",
    "                label='Commission errors 3')\n",
    "\n",
    "# Adding labels and title\n",
    "ax.set_xlabel('Group')\n",
    "ax.set_ylabel('Mean of comission errors')\n",
    "ax.set_title('Mean of comission errors per group')\n",
    "ax.set_xticks(index + bar_width)\n",
    "plt.ylim(0, 3.5)\n",
    "ax.set_xticklabels(('CDM', 'Non-Meditators'))\n",
    "ax.legend()\n",
    "\n",
    "# Show the plot\n",
    "fig.tight_layout()\n",
    "plt.show()\n",
    "\n",
    "# Save the plot as pdf\n",
    "fig.savefig('com_error_group_part.pdf')"
   ]
  },
  {
   "cell_type": "markdown",
   "id": "52b8de23",
   "metadata": {},
   "source": [
    "#### Tabular summary of means in omission errors, commission errors, anticipations, mean RT, and sd RT per group"
   ]
  },
  {
   "cell_type": "code",
   "execution_count": 16,
   "id": "f555493f",
   "metadata": {
    "scrolled": true
   },
   "outputs": [
    {
     "data": {
      "text/html": [
       "<div>\n",
       "<style scoped>\n",
       "    .dataframe tbody tr th:only-of-type {\n",
       "        vertical-align: middle;\n",
       "    }\n",
       "\n",
       "    .dataframe tbody tr th {\n",
       "        vertical-align: top;\n",
       "    }\n",
       "\n",
       "    .dataframe thead th {\n",
       "        text-align: right;\n",
       "    }\n",
       "</style>\n",
       "<table border=\"1\" class=\"dataframe\">\n",
       "  <thead>\n",
       "    <tr style=\"text-align: right;\">\n",
       "      <th></th>\n",
       "      <th>om_errors</th>\n",
       "      <th>com_errors</th>\n",
       "      <th>com_errors_1</th>\n",
       "      <th>com_errors_2</th>\n",
       "      <th>com_errors_3</th>\n",
       "      <th>anticipations</th>\n",
       "      <th>mean_RT</th>\n",
       "      <th>sd_RT</th>\n",
       "    </tr>\n",
       "    <tr>\n",
       "      <th>style</th>\n",
       "      <th></th>\n",
       "      <th></th>\n",
       "      <th></th>\n",
       "      <th></th>\n",
       "      <th></th>\n",
       "      <th></th>\n",
       "      <th></th>\n",
       "      <th></th>\n",
       "    </tr>\n",
       "  </thead>\n",
       "  <tbody>\n",
       "    <tr>\n",
       "      <th>CDM</th>\n",
       "      <td>0.838710</td>\n",
       "      <td>7.354839</td>\n",
       "      <td>2.516129</td>\n",
       "      <td>2.274194</td>\n",
       "      <td>2.564516</td>\n",
       "      <td>78.096774</td>\n",
       "      <td>158.250161</td>\n",
       "      <td>101.046190</td>\n",
       "    </tr>\n",
       "    <tr>\n",
       "      <th>Non-Meditators</th>\n",
       "      <td>0.728571</td>\n",
       "      <td>7.200000</td>\n",
       "      <td>2.342857</td>\n",
       "      <td>2.357143</td>\n",
       "      <td>2.500000</td>\n",
       "      <td>62.057143</td>\n",
       "      <td>183.072357</td>\n",
       "      <td>102.169303</td>\n",
       "    </tr>\n",
       "  </tbody>\n",
       "</table>\n",
       "</div>"
      ],
      "text/plain": [
       "                om_errors  com_errors  com_errors_1  com_errors_2  \\\n",
       "style                                                               \n",
       "CDM              0.838710    7.354839      2.516129      2.274194   \n",
       "Non-Meditators   0.728571    7.200000      2.342857      2.357143   \n",
       "\n",
       "                com_errors_3  anticipations     mean_RT       sd_RT  \n",
       "style                                                                \n",
       "CDM                 2.564516      78.096774  158.250161  101.046190  \n",
       "Non-Meditators      2.500000      62.057143  183.072357  102.169303  "
      ]
     },
     "execution_count": 16,
     "metadata": {},
     "output_type": "execute_result"
    }
   ],
   "source": [
    "grouped_means = sart_data.groupby('style')[['om_errors', 'com_errors', 'com_errors_1', 'com_errors_2', 'com_errors_3', 'anticipations', 'mean_RT', 'sd_RT']].mean()\n",
    "grouped_means"
   ]
  },
  {
   "cell_type": "markdown",
   "id": "79b96b7c",
   "metadata": {},
   "source": [
    "#### Tabular summary of standard deviations in omission errors, commission errors, anticipations, and mean RT per group"
   ]
  },
  {
   "cell_type": "code",
   "execution_count": 17,
   "id": "9981ccec",
   "metadata": {
    "scrolled": true
   },
   "outputs": [
    {
     "data": {
      "text/html": [
       "<div>\n",
       "<style scoped>\n",
       "    .dataframe tbody tr th:only-of-type {\n",
       "        vertical-align: middle;\n",
       "    }\n",
       "\n",
       "    .dataframe tbody tr th {\n",
       "        vertical-align: top;\n",
       "    }\n",
       "\n",
       "    .dataframe thead th {\n",
       "        text-align: right;\n",
       "    }\n",
       "</style>\n",
       "<table border=\"1\" class=\"dataframe\">\n",
       "  <thead>\n",
       "    <tr style=\"text-align: right;\">\n",
       "      <th></th>\n",
       "      <th>om_errors</th>\n",
       "      <th>com_errors</th>\n",
       "      <th>com_errors_1</th>\n",
       "      <th>com_errors_2</th>\n",
       "      <th>com_errors_3</th>\n",
       "      <th>anticipations</th>\n",
       "      <th>mean_RT</th>\n",
       "    </tr>\n",
       "    <tr>\n",
       "      <th>style</th>\n",
       "      <th></th>\n",
       "      <th></th>\n",
       "      <th></th>\n",
       "      <th></th>\n",
       "      <th></th>\n",
       "      <th></th>\n",
       "      <th></th>\n",
       "    </tr>\n",
       "  </thead>\n",
       "  <tbody>\n",
       "    <tr>\n",
       "      <th>CDM</th>\n",
       "      <td>1.404834</td>\n",
       "      <td>3.807227</td>\n",
       "      <td>1.715330</td>\n",
       "      <td>1.738375</td>\n",
       "      <td>1.887152</td>\n",
       "      <td>43.316491</td>\n",
       "      <td>56.750177</td>\n",
       "    </tr>\n",
       "    <tr>\n",
       "      <th>Non-Meditators</th>\n",
       "      <td>1.743904</td>\n",
       "      <td>4.339238</td>\n",
       "      <td>1.864121</td>\n",
       "      <td>1.532600</td>\n",
       "      <td>2.034129</td>\n",
       "      <td>43.353580</td>\n",
       "      <td>65.049789</td>\n",
       "    </tr>\n",
       "  </tbody>\n",
       "</table>\n",
       "</div>"
      ],
      "text/plain": [
       "                om_errors  com_errors  com_errors_1  com_errors_2  \\\n",
       "style                                                               \n",
       "CDM              1.404834    3.807227      1.715330      1.738375   \n",
       "Non-Meditators   1.743904    4.339238      1.864121      1.532600   \n",
       "\n",
       "                com_errors_3  anticipations    mean_RT  \n",
       "style                                                   \n",
       "CDM                 1.887152      43.316491  56.750177  \n",
       "Non-Meditators      2.034129      43.353580  65.049789  "
      ]
     },
     "execution_count": 17,
     "metadata": {},
     "output_type": "execute_result"
    }
   ],
   "source": [
    "grouped_sd = sart_data.groupby('style')[['om_errors', 'com_errors', 'com_errors_1', 'com_errors_2', 'com_errors_3', 'anticipations', 'mean_RT']].std()\n",
    "grouped_sd"
   ]
  },
  {
   "cell_type": "markdown",
   "id": "72fd5e80",
   "metadata": {},
   "source": [
    "---"
   ]
  },
  {
   "cell_type": "markdown",
   "id": "5a5ceb10",
   "metadata": {},
   "source": [
    "## Statistical analysis\n",
    "### Test for normal distribution\n",
    "The use of the independent t-test assumes that the data are normally distributed within the two groups. The Shapiro-Wilk test is employed to test whether the data are normally distributed."
   ]
  },
  {
   "cell_type": "code",
   "execution_count": 18,
   "id": "5734f46b",
   "metadata": {},
   "outputs": [
    {
     "name": "stdout",
     "output_type": "stream",
     "text": [
      "Shapiro-Wilk Test for CDM Group:\n",
      "om_errors: Statistic = 0.6598843336105347, p-value = 1.032357116459437e-10\n",
      "com_errors: Statistic = 0.9415878057479858, p-value = 0.005357861518859863\n",
      "anticipations: Statistic = 0.9695890545845032, p-value = 0.1266755610704422\n",
      "mean_RT: Statistic = 0.9191399812698364, p-value = 0.0005687428638339043\n",
      "\n",
      "\n",
      "Shapiro-Wilk Test for Non-Meditators Group:\n",
      "om_errors: Statistic = 0.4255163073539734, p-value = 4.458252462271077e-15\n",
      "com_errors: Statistic = 0.9591442346572876, p-value = 0.02246110886335373\n",
      "anticipations: Statistic = 0.9403409361839294, p-value = 0.0023369609843939543\n",
      "mean_RT: Statistic = 0.9473162889480591, p-value = 0.005259326193481684\n"
     ]
    }
   ],
   "source": [
    "# Split the data into two groups based on 'style'\n",
    "CDM_data = sart_data[sart_data['style'] == 'CDM']\n",
    "NM_data = sart_data[sart_data['style'] == 'Non-Meditators']\n",
    "\n",
    "# Variables to check for normality\n",
    "variables = ['om_errors', 'com_errors', 'anticipations', 'mean_RT']\n",
    "\n",
    "# Perform Shapiro-Wilk test for CDM group\n",
    "print(\"Shapiro-Wilk Test for CDM Group:\")\n",
    "for var in variables:\n",
    "    if var in CDM_data.columns:\n",
    "        stat, p_value = shapiro(CDM_data[var].dropna())\n",
    "        print(f'{var}: Statistic = {stat}, p-value = {p_value}')\n",
    "print(\"\\n\")\n",
    "\n",
    "# Perform Shapiro-Wilk test for Non-Meditators group\n",
    "print(\"Shapiro-Wilk Test for Non-Meditators Group:\")\n",
    "for var in variables:\n",
    "    if var in NM_data.columns:\n",
    "        stat, p_value = shapiro(NM_data[var].dropna())\n",
    "        print(f'{var}: Statistic = {stat}, p-value = {p_value}')"
   ]
  },
  {
   "cell_type": "markdown",
   "id": "fd068fc7",
   "metadata": {},
   "source": [
    "The Shapiro-Wilk test checks the null hypothesis that the data are normally distributed. If the p-value is less than 0.05, the null hypothesis is rejected, suggesting that the data are not normally distributed.\n",
    "\n",
    "**CDM Group**\n",
    "\n",
    "- **Omission errors**: The p-value is much less than 0.05, indicating that the data for `om_errors` in the CDM group are **not normally distributed**.\n",
    "- **Commission errors**: The p-value is less than 0.05, indicating that the data for `com_errors` in the CDM group are **not normally distributed**.\n",
    "- **Anticipations**: The p-value is greater than 0.05, indicating that we fail to reject the null hypothesis. Thus, the data for `anticipations` in the CDM group can be considered **normally distributed**.\n",
    "- **RT**: The p-value is less than 0.05, indicating that the data for `mean_RT` in the CDM group are **not normally distributed**.\n",
    "\n",
    "**Non-Meditators Group**\n",
    "\n",
    "- **Omission errors**: The p-value is much less than 0.05, indicating that the data for `om_errors` in the Non-Meditators group are **not normally distributed**.\n",
    "- **Commission errors**: The p-value is less than 0.05, indicating that the data for `com_errors` in the Non-Meditators group are **not normally distributed**.\n",
    "- **Anticipations**: The p-value is less than 0.05, indicating that the data for `anticipations` in the Non-Meditators group are **not normally distributed**.\n",
    "- **RT**: The p-value is less than 0.05, indicating that the data for `mean_RT` in the Non-Meditators group are **not normally distributed**.\n",
    "\n",
    "**Summary**\n",
    "\n",
    "- For the CDM Group, only `anticipations` data are normally distributed. All other variables are not normally distributed.\n",
    "- For the Non-Meditators Group, none of the variables are normally distributed."
   ]
  },
  {
   "cell_type": "markdown",
   "id": "e28f54b4",
   "metadata": {},
   "source": [
    "### Graphic test for normal distribution\n",
    "In addition to the Shapiro-Wilk test, histograms and Q-Q plots are plotted to visually assess normality."
   ]
  },
  {
   "cell_type": "code",
   "execution_count": 19,
   "id": "74a011c9",
   "metadata": {
    "scrolled": false
   },
   "outputs": [
    {
     "name": "stdout",
     "output_type": "stream",
     "text": [
      "Plots for CDM Group:\n"
     ]
    },
    {
     "data": {
      "image/png": "[encoded data removed]",
      "text/plain": [
       "<Figure size 864x360 with 2 Axes>"
      ]
     },
     "metadata": {
      "needs_background": "light"
     },
     "output_type": "display_data"
    },
    {
     "data": {
      "image/png": "[encoded data removed]",
      "text/plain": [
       "<Figure size 864x360 with 2 Axes>"
      ]
     },
     "metadata": {
      "needs_background": "light"
     },
     "output_type": "display_data"
    },
    {
     "data": {
      "image/png": "[encoded data removed]",
      "text/plain": [
       "<Figure size 864x360 with 2 Axes>"
      ]
     },
     "metadata": {
      "needs_background": "light"
     },
     "output_type": "display_data"
    },
    {
     "data": {
      "image/png": "[encoded data removed]",
      "text/plain": [
       "<Figure size 864x360 with 2 Axes>"
      ]
     },
     "metadata": {
      "needs_background": "light"
     },
     "output_type": "display_data"
    },
    {
     "name": "stdout",
     "output_type": "stream",
     "text": [
      "Plots for Non-Meditators Group:\n"
     ]
    },
    {
     "data": {
      "image/png": "[encoded data removed]",
      "text/plain": [
       "<Figure size 864x360 with 2 Axes>"
      ]
     },
     "metadata": {
      "needs_background": "light"
     },
     "output_type": "display_data"
    },
    {
     "data": {
      "image/png": "[encoded data removed]",
      "text/plain": [
       "<Figure size 864x360 with 2 Axes>"
      ]
     },
     "metadata": {
      "needs_background": "light"
     },
     "output_type": "display_data"
    },
    {
     "data": {
      "image/png": "[encoded data removed]",
      "text/plain": [
       "<Figure size 864x360 with 2 Axes>"
      ]
     },
     "metadata": {
      "needs_background": "light"
     },
     "output_type": "display_data"
    },
    {
     "data": {
      "image/png": "[encoded data removed]",
      "text/plain": [
       "<Figure size 864x360 with 2 Axes>"
      ]
     },
     "metadata": {
      "needs_background": "light"
     },
     "output_type": "display_data"
    }
   ],
   "source": [
    "# Histograms and Q-Q plots for CDM group\n",
    "print(\"Plots for CDM Group:\")\n",
    "for var in variables:\n",
    "    if var in CDM_data.columns:\n",
    "        plt.figure(figsize=(12, 5))\n",
    "\n",
    "        plt.subplot(1, 2, 1)\n",
    "        sns.histplot(CDM_data[var].dropna(), kde=True)\n",
    "        plt.title(f'CDM Group - Histogram of {var}')\n",
    "\n",
    "        plt.subplot(1, 2, 2)\n",
    "        stats.probplot(CDM_data[var].dropna(), dist=\"norm\", plot=plt)\n",
    "        plt.title(f'CDM Group - Q-Q Plot of {var}')\n",
    "\n",
    "        plt.show()\n",
    "\n",
    "# Histograms and Q-Q plots for Non-Meditators group\n",
    "print(\"Plots for Non-Meditators Group:\")\n",
    "for var in variables:\n",
    "    if var in NM_data.columns:\n",
    "        plt.figure(figsize=(12, 5))\n",
    "\n",
    "        plt.subplot(1, 2, 1)\n",
    "        sns.histplot(NM_data[var].dropna(), kde=True)\n",
    "        plt.title(f'Non-Meditators Group - Histogram of {var}')\n",
    "\n",
    "        plt.subplot(1, 2, 2)\n",
    "        stats.probplot(NM_data[var].dropna(), dist=\"norm\", plot=plt)\n",
    "        plt.title(f'Non-Meditators Group - Q-Q Plot of {var}')\n",
    "\n",
    "        plt.show()"
   ]
  },
  {
   "cell_type": "markdown",
   "id": "10d3818a",
   "metadata": {},
   "source": [
    "Given that many of the variables are not normally distributed, using parametric tests (which assume normality) might not be appropriate. Instead, the Mann-Whitney *U* test, a non-parametric test (which does not assume normality), is used to compare the two groups."
   ]
  },
  {
   "cell_type": "markdown",
   "id": "1f0e3ebf",
   "metadata": {},
   "source": [
    "### Mann-Whitney *U* tests\n",
    "Mann-Whitney *U* tests are performed to determine significant differences in error rates, anticipations, and mean RTs between the two groups."
   ]
  },
  {
   "cell_type": "code",
   "execution_count": 20,
   "id": "7ed6e3e6",
   "metadata": {},
   "outputs": [
    {
     "name": "stdout",
     "output_type": "stream",
     "text": [
      "Mann-Whitney U Test Results:\n",
      "om_errors: Statistic = 2277.5, p-value = 0.5734407888161505\n",
      "com_errors: Statistic = 2205.5, p-value = 0.8727124957207193\n",
      "com_errors_1: Statistic = 2302.0, p-value = 0.5413841509488531\n",
      "com_errors_2: Statistic = 2073.0, p-value = 0.6540926271202876\n",
      "com_errors_3: Statistic = 2230.0, p-value = 0.7830717706866275\n",
      "anticipations: Statistic = 2592.0, p-value = 0.05460680089741045\n",
      "mean_RT: Statistic = 1677.5, p-value = 0.024878057665260477\n"
     ]
    }
   ],
   "source": [
    "# Variables to test\n",
    "var_mwu = ['om_errors', 'com_errors', 'com_errors_1', 'com_errors_2', 'com_errors_3', 'anticipations', 'mean_RT']\n",
    "\n",
    "# Perform Mann-Whitney U test\n",
    "print(\"Mann-Whitney U Test Results:\")\n",
    "for var in var_mwu:\n",
    "    if var in CDM_data.columns and var in NM_data.columns:\n",
    "        stat, p_value = mannwhitneyu(CDM_data[var].dropna(), NM_data[var].dropna(), alternative='two-sided')\n",
    "        print(f'{var}: Statistic = {stat}, p-value = {p_value}')"
   ]
  },
  {
   "cell_type": "markdown",
   "id": "0abe766a",
   "metadata": {},
   "source": [
    "**Interpretation of Mann-Whitney *U* test results**\n",
    "\n",
    "- **No significant difference in the error rates** betweeen the two groups.\n",
    "- No significant difference in anticipations between the two groups for a significance level of 0.05, but **significant difference in anticipations for a significance level of 0.1** (weak evidence).\n",
    "- **Significant differences in RT** between the two groups."
   ]
  },
  {
   "cell_type": "markdown",
   "id": "b23b7dd6",
   "metadata": {},
   "source": [
    "### Independent t-test\n",
    "Anticipations are normally distributed. An independent t-test is performed to determine a significant difference in `anticipations` between the two groups."
   ]
  },
  {
   "cell_type": "code",
   "execution_count": 21,
   "id": "85fb87c8",
   "metadata": {},
   "outputs": [
    {
     "name": "stdout",
     "output_type": "stream",
     "text": [
      "T-statistic: 2.122274956098658\n",
      "P-value: 0.0357113780883493\n"
     ]
    }
   ],
   "source": [
    "# Separate data into two groups\n",
    "CDM_anticipation = sart_data[sart_data['style'] == 'CDM']['anticipations']\n",
    "NM_anticipation = sart_data[sart_data['style'] == 'Non-Meditators']['anticipations']\n",
    "\n",
    "# Perform independent t-test\n",
    "t_stat, p_value = stats.ttest_ind(CDM_anticipation, NM_anticipation)\n",
    "\n",
    "print(f\"T-statistic: {t_stat}\")\n",
    "print(f\"P-value: {p_value}\")"
   ]
  },
  {
   "cell_type": "markdown",
   "id": "a3bde85e",
   "metadata": {},
   "source": [
    "The p-value of 0.036 suggests that there is a **significant difference** in `anticipation` between the groups."
   ]
  },
  {
   "cell_type": "markdown",
   "id": "04c34746",
   "metadata": {},
   "source": [
    "### Influence of confounding variables\n",
    "The potential influence of the confounding variables (`screentime`, `socialmedia`, `computergames`, `exercise`, `sleep` and `mood`) on differences in error rates, anticipations, and RT between the two groups is assessed.\n",
    "\n",
    "#### Correlation analysis\n",
    "For the continuous variables `screentime` and `socialmedia` the Spearman correlation (non-parametric version of Pearson correlation) coefficients and p-values are calculated and the correlation matrix is shown."
   ]
  },
  {
   "cell_type": "code",
   "execution_count": 22,
   "id": "3943e88e",
   "metadata": {},
   "outputs": [
    {
     "data": {
      "image/png": "[encoded data removed]",
      "text/plain": [
       "<Figure size 720x576 with 2 Axes>"
      ]
     },
     "metadata": {
      "needs_background": "light"
     },
     "output_type": "display_data"
    },
    {
     "name": "stdout",
     "output_type": "stream",
     "text": [
      "\n",
      "Correlation Coefficients and P-values:\n",
      "   Variable 1    Variable 2  Correlation Coefficient      P-value\n",
      "   com_errors     om_errors                 0.341751 6.058565e-05\n",
      "   com_errors anticipations                 0.516653 2.273793e-10\n",
      "   com_errors       mean_RT                -0.402161 1.753509e-06\n",
      "   com_errors    screentime                 0.060321 4.920406e-01\n",
      "   com_errors   socialmedia                -0.002800 9.745830e-01\n",
      "    om_errors anticipations                 0.028764 7.433673e-01\n",
      "    om_errors       mean_RT                 0.165450 5.797465e-02\n",
      "    om_errors    screentime                 0.068336 4.362387e-01\n",
      "    om_errors   socialmedia                 0.102973 2.400175e-01\n",
      "anticipations       mean_RT                -0.902883 1.673738e-49\n",
      "anticipations    screentime                 0.031576 7.192834e-01\n",
      "anticipations   socialmedia                -0.186731 3.204415e-02\n",
      "      mean_RT    screentime                -0.020503 8.154894e-01\n",
      "      mean_RT   socialmedia                 0.226987 8.861874e-03\n",
      "   screentime   socialmedia                 0.611816 6.533404e-15\n"
     ]
    }
   ],
   "source": [
    "# Calculate the correlation matrix for the relevant variables\n",
    "variables = ['com_errors', 'om_errors', 'anticipations', 'mean_RT', 'screentime', 'socialmedia']\n",
    "correlation_matrix = sart_data[variables].corr(method='spearman')\n",
    "\n",
    "# Set up the matplotlib figure\n",
    "plt.figure(figsize=(10, 8))\n",
    "\n",
    "# Create a mask for the upper triangle\n",
    "mask = np.triu(np.ones_like(correlation_matrix, dtype=bool))\n",
    "\n",
    "# Draw the heatmap\n",
    "sns.heatmap(correlation_matrix, mask=mask, annot=True, cmap='coolwarm', fmt='.2f', linewidths=0.5, vmin=-1, vmax=1)\n",
    "plt.title('Correlation Matrix')\n",
    "\n",
    "# Save the heatmap as a PDF file\n",
    "plt.savefig('correlation.pdf')\n",
    "\n",
    "# Show the heatmap\n",
    "plt.show()\n",
    "\n",
    "# Calculate correlation coefficients and p-values\n",
    "def calculate_correlation_and_pvalue(x, y):\n",
    "    return stats.spearmanr(x, y)\n",
    "\n",
    "results = []\n",
    "for i, var1 in enumerate(variables):\n",
    "    for j, var2 in enumerate(variables):\n",
    "        if i < j:  # To avoid duplicate comparisons\n",
    "            coef, p_value = calculate_correlation_and_pvalue(sart_data[var1], sart_data[var2])\n",
    "            results.append({\n",
    "                'Variable 1': var1,\n",
    "                'Variable 2': var2,\n",
    "                'Correlation Coefficient': coef,\n",
    "                'P-value': p_value\n",
    "            })\n",
    "\n",
    "# Create a DataFrame from the results\n",
    "results_df = pd.DataFrame(results)\n",
    "            \n",
    "# Display the table\n",
    "print(\"\\nCorrelation Coefficients and P-values:\")\n",
    "print(results_df.to_string(index=False))"
   ]
  },
  {
   "cell_type": "markdown",
   "id": "ea963000",
   "metadata": {},
   "source": [
    "#### Interpretation of correlation analysis\n",
    "\n",
    "***Influence of*** `screentime`\n",
    "    \n",
    "No significant correlations found.\n",
    "    \n",
    "***Influence of*** `socialmedia`\n",
    "- commission errors: no significant correlation\n",
    "- omission errors: no significant correlation\n",
    "- anticipations: very weak negative correlation (-0.19), statistically significant (0.03) ⟶ higher social media usage is associated with fewer anticipations\n",
    "- RT: weak positive correlation (0.23), statistically significant (0.009) ⟶ higher social media usage is associated with longer mean reaction time\n",
    "\n",
    "**Social media usage shows a weak but statistically significant influence on** `anticipations` **and** `mean_RT`. In contrast, screen time does not exhibit any significant correlations with the dependent variables."
   ]
  },
  {
   "cell_type": "markdown",
   "id": "cdddbd7a",
   "metadata": {},
   "source": [
    "#### Stratified Mann-Whitney *U* tests\n",
    "To check for a potential influence of the categorical variables `computergames`, `exercise`, `sleep`, or `mood` on differences between meditators and non-meditators, stratified Mann-Whitney *U* tests (variables are not normally distributed) are conducted.\n",
    "\n",
    "Stratified analysis involves dividing the data into strata (subgroups) based on levels of the confounding variable."
   ]
  },
  {
   "cell_type": "code",
   "execution_count": 23,
   "id": "fb84c0dd",
   "metadata": {
    "scrolled": false
   },
   "outputs": [
    {
     "name": "stdout",
     "output_type": "stream",
     "text": [
      "\n",
      "Mann-Whitney U Test Results stratified by computergames:\n",
      "Level 1: om_errors: Statistic = 1240.5, p-value = 0.41407780309940023\n",
      "Level 1: com_errors: Statistic = 1198.0, p-value = 0.6929500813103389\n",
      "Level 1: anticipations: Statistic = 1396.5, p-value = 0.06385419713801621\n",
      "Level 1: mean_RT: Statistic = 888.0, p-value = 0.06027943096108894\n",
      "Level 2: om_errors: Statistic = 104.5, p-value = 1.0\n",
      "Level 2: com_errors: Statistic = 89.5, p-value = 0.5094397902002716\n",
      "Level 2: anticipations: Statistic = 125.5, p-value = 0.3826158589359915\n",
      "Level 2: mean_RT: Statistic = 76.0, p-value = 0.21355772865776912\n",
      "Level 3: om_errors: Statistic = 6.0, p-value = 1.0\n",
      "Level 3: com_errors: Statistic = 6.5, p-value = 1.0\n",
      "Level 3: anticipations: Statistic = 4.0, p-value = 0.6285714285714286\n",
      "Level 3: mean_RT: Statistic = 7.0, p-value = 0.8571428571428571\n",
      "\n",
      "Mann-Whitney U Test Results stratified by exercise:\n",
      "Level 4: om_errors: Statistic = 535.5, p-value = 0.40333263162951216\n",
      "Level 4: com_errors: Statistic = 575.5, p-value = 0.8279687314010887\n",
      "Level 4: anticipations: Statistic = 691.5, p-value = 0.24386839278686634\n",
      "Level 4: mean_RT: Statistic = 455.0, p-value = 0.09616616211462348\n",
      "Level 3: om_errors: Statistic = 288.5, p-value = 0.01798423514485897\n",
      "Level 3: com_errors: Statistic = 206.5, p-value = 0.9373264606655741\n",
      "Level 3: anticipations: Statistic = 216.0, p-value = 0.8858943990301008\n",
      "Level 3: mean_RT: Statistic = 214.0, p-value = 0.9272644735252321\n",
      "Level 1: om_errors: Insufficient data for Mann-Whitney U test\n",
      "Level 1: com_errors: Insufficient data for Mann-Whitney U test\n",
      "Level 1: anticipations: Insufficient data for Mann-Whitney U test\n",
      "Level 1: mean_RT: Insufficient data for Mann-Whitney U test\n",
      "Level 2: om_errors: Statistic = 27.0, p-value = 0.9508750001856238\n",
      "Level 2: com_errors: Statistic = 37.5, p-value = 0.29370917273369423\n",
      "Level 2: anticipations: Statistic = 44.0, p-value = 0.0721056721056721\n",
      "Level 2: mean_RT: Statistic = 12.0, p-value = 0.0721056721056721\n",
      "\n",
      "Mann-Whitney U Test Results stratified by sleep:\n",
      "Level 3: om_errors: Statistic = 529.0, p-value = 0.5299575200560022\n",
      "Level 3: com_errors: Statistic = 575.5, p-value = 0.23774023226605057\n",
      "Level 3: anticipations: Statistic = 635.0, p-value = 0.045608359208944974\n",
      "Level 3: mean_RT: Statistic = 334.0, p-value = 0.03148496470280906\n",
      "Level 4: om_errors: Statistic = 41.0, p-value = 0.2885659183845808\n",
      "Level 4: com_errors: Statistic = 27.0, p-value = 0.05825759797350219\n",
      "Level 4: anticipations: Statistic = 56.5, p-value = 0.8869378441969724\n",
      "Level 4: mean_RT: Statistic = 32.5, p-value = 0.13546603616163555\n",
      "Level 2: om_errors: Statistic = 216.0, p-value = 0.4613978016767285\n",
      "Level 2: com_errors: Statistic = 216.0, p-value = 0.5136795627512651\n",
      "Level 2: anticipations: Statistic = 223.0, p-value = 0.3996990173689051\n",
      "Level 2: mean_RT: Statistic = 172.0, p-value = 0.5903328916508452\n",
      "Level 1: om_errors: Statistic = 8.0, p-value = 0.2853768809059243\n",
      "Level 1: com_errors: Statistic = 5.5, p-value = 1.0\n",
      "Level 1: anticipations: Statistic = 6.0, p-value = 0.8571428571428571\n",
      "Level 1: mean_RT: Statistic = 5.0, p-value = 1.0\n",
      "Level 5: om_errors: Insufficient data for Mann-Whitney U test\n",
      "Level 5: com_errors: Insufficient data for Mann-Whitney U test\n",
      "Level 5: anticipations: Insufficient data for Mann-Whitney U test\n",
      "Level 5: mean_RT: Insufficient data for Mann-Whitney U test\n",
      "\n",
      "Mann-Whitney U Test Results stratified by mood:\n",
      "Level 4: om_errors: Statistic = 85.0, p-value = 0.7500324726305178\n",
      "Level 4: com_errors: Statistic = 60.5, p-value = 0.1428643380945089\n",
      "Level 4: anticipations: Statistic = 83.0, p-value = 0.7158567028794731\n",
      "Level 4: mean_RT: Statistic = 100.0, p-value = 0.6799932443507429\n",
      "Level 10: om_errors: Insufficient data for Mann-Whitney U test\n",
      "Level 10: com_errors: Insufficient data for Mann-Whitney U test\n",
      "Level 10: anticipations: Insufficient data for Mann-Whitney U test\n",
      "Level 10: mean_RT: Insufficient data for Mann-Whitney U test\n",
      "Level 8: om_errors: Statistic = 28.0, p-value = 0.427833215951413\n",
      "Level 8: com_errors: Statistic = 34.5, p-value = 0.9226777291452626\n",
      "Level 8: anticipations: Statistic = 36.0, p-value = 1.0\n",
      "Level 8: mean_RT: Statistic = 32.5, p-value = 0.7726944980890869\n",
      "Level 7: om_errors: Statistic = 110.0, p-value = 0.2957508132892167\n",
      "Level 7: com_errors: Statistic = 94.5, p-value = 0.8835996229348054\n",
      "Level 7: anticipations: Statistic = 114.0, p-value = 0.2747575047948606\n",
      "Level 7: mean_RT: Statistic = 60.0, p-value = 0.13886048069881368\n",
      "Level 3: om_errors: Statistic = 57.0, p-value = 0.4581096675317906\n",
      "Level 3: com_errors: Statistic = 37.5, p-value = 0.43745661042850437\n",
      "Level 3: anticipations: Statistic = 48.0, p-value = 1.0\n",
      "Level 3: mean_RT: Statistic = 49.0, p-value = 0.9699293482575216\n",
      "Level 6: om_errors: Statistic = 43.0, p-value = 0.3987897290351714\n",
      "Level 6: com_errors: Statistic = 40.5, p-value = 0.6422588348690716\n",
      "Level 6: anticipations: Statistic = 47.0, p-value = 0.2975576195390437\n",
      "Level 6: mean_RT: Statistic = 21.0, p-value = 0.2192982456140351\n",
      "Level 9: om_errors: Statistic = 5.5, p-value = 1.0\n",
      "Level 9: com_errors: Statistic = 1.0, p-value = 0.12428287406255234\n",
      "Level 9: anticipations: Statistic = 8.0, p-value = 0.6428571428571428\n",
      "Level 9: mean_RT: Statistic = 0.0, p-value = 0.07142857142857142\n",
      "Level 2: om_errors: Statistic = 3.0, p-value = 0.15822475139993508\n",
      "Level 2: com_errors: Statistic = 15.0, p-value = 0.03466118588750728\n",
      "Level 2: anticipations: Statistic = 12.0, p-value = 0.25\n",
      "Level 2: mean_RT: Statistic = 2.0, p-value = 0.14285714285714285\n",
      "Level 5: om_errors: Statistic = 4.0, p-value = 0.6830913983096087\n",
      "Level 5: com_errors: Statistic = 4.0, p-value = 0.8\n",
      "Level 5: anticipations: Statistic = 6.0, p-value = 0.2\n",
      "Level 5: mean_RT: Statistic = 0.0, p-value = 0.2\n"
     ]
    }
   ],
   "source": [
    "# Define the confounding variables\n",
    "confounding_variables = ['computergames', 'exercise', 'sleep', 'mood']\n",
    "\n",
    "# Define the groups to compare (CDM vs Non-Meditators)\n",
    "CDM_data = sart_data[sart_data['style'] == 'CDM']\n",
    "NM_data = sart_data[sart_data['style'] == 'Non-Meditators']\n",
    "\n",
    "# Variables to test using Mann-Whitney U test\n",
    "var_mwu = ['om_errors', 'com_errors', 'anticipations', 'mean_RT']\n",
    "\n",
    "# Perform Mann-Whitney U test stratified by each confounding variable\n",
    "for conf_var in confounding_variables:\n",
    "    # Get unique values of the confounding variable\n",
    "    conf_var_levels = sart_data[conf_var].unique()\n",
    "    \n",
    "    print(f\"\\nMann-Whitney U Test Results stratified by {conf_var}:\")\n",
    "    \n",
    "    for level in conf_var_levels:\n",
    "        # Split data into two groups based on 'style' and the current level of conf_var\n",
    "        CDM_subgroup = CDM_data[CDM_data[conf_var] == level]\n",
    "        NM_subgroup = NM_data[NM_data[conf_var] == level]\n",
    "        \n",
    "        # Perform Mann-Whitney U test for each variable of interest\n",
    "        for var in var_mwu:\n",
    "            if var in CDM_subgroup.columns and var in NM_subgroup.columns:\n",
    "                CDM_values = CDM_subgroup[var].dropna()\n",
    "                NM_values = NM_subgroup[var].dropna()\n",
    "                \n",
    "                # Check if both groups have data before performing the test\n",
    "                if len(CDM_values) > 0 and len(NM_values) > 0:\n",
    "                    stat, p_value = mannwhitneyu(CDM_values, NM_values, alternative='two-sided')\n",
    "                    print(f'Level {level}: {var}: Statistic = {stat}, p-value = {p_value}')\n",
    "                else:\n",
    "                    print(f'Level {level}: {var}: Insufficient data for Mann-Whitney U test')"
   ]
  },
  {
   "cell_type": "markdown",
   "id": "7428a9a5",
   "metadata": {},
   "source": [
    "#### Interpretation of Mann-Whitney *U* test results\n",
    "\n",
    "***Computergames***\n",
    "\n",
    "None of the p-values are below the common significance threshold (0.05) for none of the 3 levels, indicating no statistically significant differences between `CDM` and `Non-Meditators` and no influence of the variable `computergames`.\n",
    "\n",
    "***Exercise***\n",
    "- Only for level 3 (\"once a week\"), the variable `om_errors` shows a significant difference (p-value = 0.018), suggesting a difference in omission errors between the two groups at this exercise level. No significant differences in other variables.\n",
    "- There is no significant difference in any of the variables between the two groups for levels 2 and 4.\n",
    "- For level 1 (\"I don't exercise\"), there is insufficient data for testing.\n",
    "\n",
    "***Sleep***\n",
    "- Level 3 (<=8 hours): The variables `anticipations` (p-value = 0.046) and `mean_RT` (p-value = 0.031) show significant differences, suggesting a difference between the groups for these variables. No significant differences in other variables.\n",
    "- There is no significant difference in any of the variables between the two groups for levels 1, 2, and 4.\n",
    "- For level 5 (> 9hours) there is insufficient data for testing.\n",
    "\n",
    "***Mood***\n",
    "- Level 2: The variable `com_errors` (p-value = 0.035) shows significant difference, suggesting a difference in commission errors between the groups at this mood level. No significant differences in other variables.\n",
    "- There is no significant difference in any of the variables between the two groups for levels 3, 4, 5, 6, 7, 8, 9.\n",
    "- For level 10 there is insufficient data for testing.\n",
    "\n",
    "#### Summary of results\n",
    "- Exercise Level 3: The significant difference in `om_errors` indicates that **exercise might influence the number of omission errors differently between meditators and non-meditators**.\n",
    "- Sleep Level 3: Significant differences in `anticipations` and `mean_RT` suggest that **sleep duration may impact anticipations and reaction times differently between the groups**.\n",
    "- Mood Level 2: The significant difference in `com_errors` suggests that **mood might influence commission errors between the two groups**.\n",
    "\n",
    "The results indicate that **exercise, sleep, and mood could potentially moderate the differences in SART performance between 'CDM' and 'Non-Meditators'**."
   ]
  },
  {
   "cell_type": "markdown",
   "id": "767b6d41",
   "metadata": {},
   "source": [
    "---"
   ]
  },
  {
   "cell_type": "markdown",
   "id": "01e23b84",
   "metadata": {},
   "source": [
    "## Exploratory analysis\n",
    "**Differences within the CDM group with regard to regularity, experience, and duration**: To ascertain whether there are differences in SART performance between different groups of meditators, further analyses are conducted. Meditators with varying levels of experience, regularity, and duration of practice are compared.\n",
    "### Experience\n",
    "#### Frequencies in experience groups"
   ]
  },
  {
   "cell_type": "code",
   "execution_count": 24,
   "id": "3f1eee6e",
   "metadata": {
    "scrolled": false
   },
   "outputs": [
    {
     "data": {
      "text/html": [
       "<div>\n",
       "<style scoped>\n",
       "    .dataframe tbody tr th:only-of-type {\n",
       "        vertical-align: middle;\n",
       "    }\n",
       "\n",
       "    .dataframe tbody tr th {\n",
       "        vertical-align: top;\n",
       "    }\n",
       "\n",
       "    .dataframe thead th {\n",
       "        text-align: right;\n",
       "    }\n",
       "</style>\n",
       "<table border=\"1\" class=\"dataframe\">\n",
       "  <thead>\n",
       "    <tr style=\"text-align: right;\">\n",
       "      <th></th>\n",
       "      <th>experience</th>\n",
       "      <th>Count</th>\n",
       "    </tr>\n",
       "  </thead>\n",
       "  <tbody>\n",
       "    <tr>\n",
       "      <th>0</th>\n",
       "      <td>0</td>\n",
       "      <td>70</td>\n",
       "    </tr>\n",
       "    <tr>\n",
       "      <th>1</th>\n",
       "      <td>1</td>\n",
       "      <td>9</td>\n",
       "    </tr>\n",
       "    <tr>\n",
       "      <th>2</th>\n",
       "      <td>2</td>\n",
       "      <td>19</td>\n",
       "    </tr>\n",
       "    <tr>\n",
       "      <th>3</th>\n",
       "      <td>3</td>\n",
       "      <td>21</td>\n",
       "    </tr>\n",
       "    <tr>\n",
       "      <th>4</th>\n",
       "      <td>4</td>\n",
       "      <td>13</td>\n",
       "    </tr>\n",
       "  </tbody>\n",
       "</table>\n",
       "</div>"
      ],
      "text/plain": [
       "   experience  Count\n",
       "0           0     70\n",
       "1           1      9\n",
       "2           2     19\n",
       "3           3     21\n",
       "4           4     13"
      ]
     },
     "execution_count": 24,
     "metadata": {},
     "output_type": "execute_result"
    }
   ],
   "source": [
    "exp_groups_2 = sart_data.groupby(['experience'], sort=True).size().reset_index(name='Count')\n",
    "exp_groups_2"
   ]
  },
  {
   "cell_type": "markdown",
   "id": "2d967df6",
   "metadata": {},
   "source": [
    "#### Tabular summary of means in omission errors, commission errors, anticipations, and mean RT per group"
   ]
  },
  {
   "cell_type": "code",
   "execution_count": 25,
   "id": "e5bf4c8f",
   "metadata": {},
   "outputs": [
    {
     "data": {
      "text/html": [
       "<div>\n",
       "<style scoped>\n",
       "    .dataframe tbody tr th:only-of-type {\n",
       "        vertical-align: middle;\n",
       "    }\n",
       "\n",
       "    .dataframe tbody tr th {\n",
       "        vertical-align: top;\n",
       "    }\n",
       "\n",
       "    .dataframe thead th {\n",
       "        text-align: right;\n",
       "    }\n",
       "</style>\n",
       "<table border=\"1\" class=\"dataframe\">\n",
       "  <thead>\n",
       "    <tr style=\"text-align: right;\">\n",
       "      <th></th>\n",
       "      <th>om_errors</th>\n",
       "      <th>com_errors</th>\n",
       "      <th>com_errors_1</th>\n",
       "      <th>com_errors_2</th>\n",
       "      <th>com_errors_3</th>\n",
       "      <th>anticipations</th>\n",
       "      <th>mean_RT</th>\n",
       "    </tr>\n",
       "    <tr>\n",
       "      <th>experience</th>\n",
       "      <th></th>\n",
       "      <th></th>\n",
       "      <th></th>\n",
       "      <th></th>\n",
       "      <th></th>\n",
       "      <th></th>\n",
       "      <th></th>\n",
       "    </tr>\n",
       "  </thead>\n",
       "  <tbody>\n",
       "    <tr>\n",
       "      <th>0</th>\n",
       "      <td>0.728571</td>\n",
       "      <td>7.200000</td>\n",
       "      <td>2.342857</td>\n",
       "      <td>2.357143</td>\n",
       "      <td>2.500000</td>\n",
       "      <td>62.057143</td>\n",
       "      <td>183.072357</td>\n",
       "    </tr>\n",
       "    <tr>\n",
       "      <th>1</th>\n",
       "      <td>1.111111</td>\n",
       "      <td>7.111111</td>\n",
       "      <td>2.222222</td>\n",
       "      <td>2.000000</td>\n",
       "      <td>2.888889</td>\n",
       "      <td>64.777778</td>\n",
       "      <td>183.191667</td>\n",
       "    </tr>\n",
       "    <tr>\n",
       "      <th>2</th>\n",
       "      <td>1.421053</td>\n",
       "      <td>8.105263</td>\n",
       "      <td>2.789474</td>\n",
       "      <td>2.684211</td>\n",
       "      <td>2.631579</td>\n",
       "      <td>82.947368</td>\n",
       "      <td>174.316579</td>\n",
       "    </tr>\n",
       "    <tr>\n",
       "      <th>3</th>\n",
       "      <td>0.428571</td>\n",
       "      <td>6.761905</td>\n",
       "      <td>2.619048</td>\n",
       "      <td>2.095238</td>\n",
       "      <td>2.047619</td>\n",
       "      <td>75.285714</td>\n",
       "      <td>145.662619</td>\n",
       "    </tr>\n",
       "    <tr>\n",
       "      <th>4</th>\n",
       "      <td>0.461538</td>\n",
       "      <td>7.384615</td>\n",
       "      <td>2.153846</td>\n",
       "      <td>2.153846</td>\n",
       "      <td>3.076923</td>\n",
       "      <td>84.769231</td>\n",
       "      <td>137.835000</td>\n",
       "    </tr>\n",
       "  </tbody>\n",
       "</table>\n",
       "</div>"
      ],
      "text/plain": [
       "            om_errors  com_errors  com_errors_1  com_errors_2  com_errors_3  \\\n",
       "experience                                                                    \n",
       "0            0.728571    7.200000      2.342857      2.357143      2.500000   \n",
       "1            1.111111    7.111111      2.222222      2.000000      2.888889   \n",
       "2            1.421053    8.105263      2.789474      2.684211      2.631579   \n",
       "3            0.428571    6.761905      2.619048      2.095238      2.047619   \n",
       "4            0.461538    7.384615      2.153846      2.153846      3.076923   \n",
       "\n",
       "            anticipations     mean_RT  \n",
       "experience                             \n",
       "0               62.057143  183.072357  \n",
       "1               64.777778  183.191667  \n",
       "2               82.947368  174.316579  \n",
       "3               75.285714  145.662619  \n",
       "4               84.769231  137.835000  "
      ]
     },
     "execution_count": 25,
     "metadata": {},
     "output_type": "execute_result"
    }
   ],
   "source": [
    "grouped_means_2 = sart_data.groupby('experience')[['om_errors', 'com_errors', 'com_errors_1', 'com_errors_2', 'com_errors_3', 'anticipations', 'mean_RT']].mean()\n",
    "grouped_means_2"
   ]
  },
  {
   "cell_type": "markdown",
   "id": "53e37a81",
   "metadata": {},
   "source": [
    "#### Test for normal distribution\n",
    "\n",
    "The Shapiro-Wilk test is employed to test whether the data are normally distributed."
   ]
  },
  {
   "cell_type": "code",
   "execution_count": 26,
   "id": "e3d7a431",
   "metadata": {},
   "outputs": [
    {
     "name": "stdout",
     "output_type": "stream",
     "text": [
      "Shapiro-Wilk Test for group with experience level 1:\n",
      "om_errors: Statistic = 0.827140212059021, p-value = 0.041472118347883224\n",
      "com_errors: Statistic = 0.8206983208656311, p-value = 0.03508966043591499\n",
      "anticipations: Statistic = 0.9154460430145264, p-value = 0.35587266087532043\n",
      "mean_RT: Statistic = 0.8988550901412964, p-value = 0.24543850123882294\n",
      "\n",
      "\n",
      "Shapiro-Wilk Test for group with experience level 2:\n",
      "om_errors: Statistic = 0.7406470775604248, p-value = 0.0001768945949152112\n",
      "com_errors: Statistic = 0.9267927408218384, p-value = 0.15112519264221191\n",
      "anticipations: Statistic = 0.9034346342086792, p-value = 0.05615838244557381\n",
      "mean_RT: Statistic = 0.9183183908462524, p-value = 0.10535158962011337\n",
      "\n",
      "\n",
      "Shapiro-Wilk Test for group with experience level 3:\n",
      "om_errors: Statistic = 0.5679951906204224, p-value = 9.200313684232242e-07\n",
      "com_errors: Statistic = 0.9482300281524658, p-value = 0.31525102257728577\n",
      "anticipations: Statistic = 0.9178658127784729, p-value = 0.07866501808166504\n",
      "mean_RT: Statistic = 0.9252214431762695, p-value = 0.11039496958255768\n",
      "\n",
      "\n",
      "Shapiro-Wilk Test for group with experience level 4:\n",
      "om_errors: Statistic = 0.5625618696212769, p-value = 3.168017792631872e-05\n",
      "com_errors: Statistic = 0.8840283751487732, p-value = 0.08087481558322906\n",
      "anticipations: Statistic = 0.9493463635444641, p-value = 0.5884190201759338\n",
      "mean_RT: Statistic = 0.9526222348213196, p-value = 0.6385001540184021\n"
     ]
    }
   ],
   "source": [
    "# Split the data into four groups based on 'experience'\n",
    "exp_1_data = sart_data[sart_data['experience'] == 1]\n",
    "exp_2_data = sart_data[sart_data['experience'] == 2]\n",
    "exp_3_data = sart_data[sart_data['experience'] == 3]\n",
    "exp_4_data = sart_data[sart_data['experience'] == 4]\n",
    "\n",
    "# Variables to check for normality\n",
    "variables = ['om_errors', 'com_errors', 'anticipations', 'mean_RT']\n",
    "\n",
    "# Perform Shapiro-Wilk test for group with experience level 1\n",
    "print(\"Shapiro-Wilk Test for group with experience level 1:\")\n",
    "for var in variables:\n",
    "    if var in exp_1_data.columns:\n",
    "        stat, p_value = shapiro(exp_1_data[var].dropna())\n",
    "        print(f'{var}: Statistic = {stat}, p-value = {p_value}')\n",
    "print(\"\\n\")\n",
    "\n",
    "# Perform Shapiro-Wilk test for group with experience level 2\n",
    "print(\"Shapiro-Wilk Test for group with experience level 2:\")\n",
    "for var in variables:\n",
    "    if var in exp_2_data.columns:\n",
    "        stat, p_value = shapiro(exp_2_data[var].dropna())\n",
    "        print(f'{var}: Statistic = {stat}, p-value = {p_value}')\n",
    "print(\"\\n\")\n",
    "        \n",
    "# Perform Shapiro-Wilk test for group with experience level 3\n",
    "print(\"Shapiro-Wilk Test for group with experience level 3:\")\n",
    "for var in variables:\n",
    "    if var in exp_3_data.columns:\n",
    "        stat, p_value = shapiro(exp_3_data[var].dropna())\n",
    "        print(f'{var}: Statistic = {stat}, p-value = {p_value}')\n",
    "print(\"\\n\")\n",
    "\n",
    "# Perform Shapiro-Wilk test for group with experience level 4\n",
    "print(\"Shapiro-Wilk Test for group with experience level 4:\")\n",
    "for var in variables:\n",
    "    if var in exp_4_data.columns:\n",
    "        stat, p_value = shapiro(exp_4_data[var].dropna())\n",
    "        print(f'{var}: Statistic = {stat}, p-value = {p_value}')"
   ]
  },
  {
   "cell_type": "markdown",
   "id": "80623dd3",
   "metadata": {},
   "source": [
    "**Interpretation of the Shapiro-Wilk test results**\n",
    "\n",
    "Group with experience level 1\n",
    "- **Omission errors**: The p-value is less than 0.05, indicating that the data for `om_errors` in the experience level 1 group are **not normally distributed**.\n",
    "- **Commission errors**: The p-value is less than 0.05, indicating that the data for `com_errors` in the experience level 1 group are **not normally distributed**.\n",
    "- **Anticipations**: The p-value is greater than 0.05, indicating that we fail to reject the null hypothesis. Thus, the data for `anticipations` in the experience level 1 group can be considered **normally distributed**.\n",
    "- **RT**: The p-value is greater than 0.05. Thus, the data for `mean_RT` in the experience level 1 group can be considered **normally distributed**.\n",
    "\n",
    "Group with experience level 2\n",
    "- **Omission errors**: The p-value is much less than 0.05, indicating that the data for `om_errors` in the experience level 2 group are **not normally distributed**.\n",
    "- **Commission errors**: The p-value is greater than 0.05. Thus, the data for `com_errors` in the experience level 2 group can be considered **normally distributed**.\n",
    "- **Anticipations**: The p-value is greater than 0.05. Thus, the data for `anticipations` in the experience level 2 group can be considered **normally distributed**.\n",
    "- **RT**: The p-value is greater than 0.05. Thus, the data for `mean_RT` in the experience level 2 group can be considered **normally distributed**.\n",
    "\n",
    "Group with experience level 3\n",
    "- **Omission errors**: The p-value is much less than 0.05, indicating that the data for `om_errors` in the experience level 3 group are **not normally distributed**.\n",
    "- **Commission errors**: The p-value is greater than 0.05. Thus, the data for `com_errors` in the experience level 3 group can be considered **normally distributed**.\n",
    "- **Anticipations**: The p-value is greater than 0.05. Thus, the data for `anticipations` in the experience level 3 group can be considered **normally distributed**.\n",
    "- **RT**: The p-value is greater than 0.05. Thus, the data for `mean_RT` in the experience level 3 group can be considered **normally distributed**.\n",
    "\n",
    "Group with experience level 4\n",
    "- **Omission errors**: The p-value is much less than 0.05, indicating that the data for `om_errors` in the experience level 4 group are **not normally distributed**.\n",
    "- **Commission errors**: The p-value is greater than 0.05. Thus, the data for `com_errors` in the experience level 4 group can be considered **normally distributed**.\n",
    "- **Anticipations**: The p-value is greater than 0.05. Thus, the data for `anticipations` in the experience level 4 group can be considered **normally distributed**.\n",
    "- **RT**: The p-value is greater than 0.05. Thus, the data for `mean_RT` in the experience level 3 group can be considered **normally distributed**.\n",
    "\n",
    "**Implications of the results**\n",
    "\n",
    "⟶ Kruskal-Wallis *H* test for `om_errors` and `com_errors`\n",
    "\n",
    "⟶ One-way ANOVA for `anticipations` and `mean_RT`"
   ]
  },
  {
   "cell_type": "markdown",
   "id": "f757f927",
   "metadata": {},
   "source": [
    "#### Kruskal-Wallis *H* test (non-parametric alternative to one-way ANOVA)\n",
    "\n",
    "Determine whether there are statistically significant differences between the means of `om_errors` and `com_errors` between the four groups of the independent variable `experience`."
   ]
  },
  {
   "cell_type": "code",
   "execution_count": 27,
   "id": "a642066b",
   "metadata": {},
   "outputs": [
    {
     "name": "stdout",
     "output_type": "stream",
     "text": [
      "Kruskal-Wallis H Test Results\n",
      "om_errors: KruskalResult(statistic=6.915540872592264, pvalue=0.07463905237201801)\n",
      "com_errors: KruskalResult(statistic=1.2259482664956542, pvalue=0.7467878085921191)\n"
     ]
    }
   ],
   "source": [
    "# Perform Kruskal-Wallis H test for each dependent variable\n",
    "kruskal_om_errors = stats.kruskal(\n",
    "    *[sart_data[sart_data['experience'] == exp]['om_errors'] for exp in [1,2,3,4]]\n",
    ")\n",
    "kruskal_com_errors = stats.kruskal(\n",
    "    *[sart_data[sart_data['experience'] == exp]['com_errors'] for exp in [1,2,3,4]]\n",
    ")\n",
    "\n",
    "print(\"Kruskal-Wallis H Test Results\")\n",
    "print(\"om_errors:\", kruskal_om_errors)\n",
    "print(\"com_errors:\", kruskal_com_errors)"
   ]
  },
  {
   "cell_type": "markdown",
   "id": "12419e21",
   "metadata": {},
   "source": [
    "Both p-values are greater than the significance level of 0.05. This indicates **no significant differences in mean error rates between different experience levels within the CDM group**."
   ]
  },
  {
   "cell_type": "markdown",
   "id": "28f6e49a",
   "metadata": {},
   "source": [
    "#### One-way ANOVA\n",
    "Determine whether there are statistically significant differences between the means of `anticipations` and `mean_RT` between the four groups of the independent variable `experience`."
   ]
  },
  {
   "cell_type": "code",
   "execution_count": 28,
   "id": "7ef597e0",
   "metadata": {},
   "outputs": [
    {
     "name": "stdout",
     "output_type": "stream",
     "text": [
      "One-way ANOVA Results\n",
      "anticipations: F_onewayResult(statistic=0.48275257654780646, pvalue=0.6955591194701811)\n",
      "mean:RT: F_onewayResult(statistic=2.100036753846325, pvalue=0.11008229705971982)\n"
     ]
    }
   ],
   "source": [
    "# Extract the relevant columns\n",
    "experience_groups = sart_data['experience']\n",
    "anticipations = sart_data['anticipations']\n",
    "mean_RT = sart_data['mean_RT']\n",
    "\n",
    "# Group the data by experience levels\n",
    "groups_anticipations = [anticipations[experience_groups == exp] for exp in [1, 2, 3, 4]]\n",
    "groups_mean_RT = [mean_RT[experience_groups == exp] for exp in [1, 2, 3, 4]]\n",
    "\n",
    "# Perform one-way ANOVA for anticipations\n",
    "anova_result_anticipations = stats.f_oneway(*groups_anticipations)\n",
    "\n",
    "# Perform one-way ANOVA for mean_RT\n",
    "anova_result_mean_RT = stats.f_oneway(*groups_mean_RT)\n",
    "\n",
    "anova_results = {\n",
    "    'anticipations': anova_result_anticipations,\n",
    "    'mean_RT': anova_result_mean_RT\n",
    "}\n",
    "\n",
    "print(\"One-way ANOVA Results\")\n",
    "print(\"anticipations:\", anova_result_anticipations)\n",
    "print(\"mean:RT:\", anova_result_mean_RT)"
   ]
  },
  {
   "cell_type": "markdown",
   "id": "082c02cf",
   "metadata": {},
   "source": [
    "Since both p-values are greater than 0.05, the one-way ANOVA indicates **no significant differences in anticipations and mean RT between different experience levels within the CDM group**."
   ]
  },
  {
   "cell_type": "markdown",
   "id": "431c6287",
   "metadata": {},
   "source": [
    "### Regularity\n",
    "#### Frequencies in regularity groups"
   ]
  },
  {
   "cell_type": "code",
   "execution_count": 29,
   "id": "3ce2c24a",
   "metadata": {
    "scrolled": true
   },
   "outputs": [
    {
     "data": {
      "text/html": [
       "<div>\n",
       "<style scoped>\n",
       "    .dataframe tbody tr th:only-of-type {\n",
       "        vertical-align: middle;\n",
       "    }\n",
       "\n",
       "    .dataframe tbody tr th {\n",
       "        vertical-align: top;\n",
       "    }\n",
       "\n",
       "    .dataframe thead th {\n",
       "        text-align: right;\n",
       "    }\n",
       "</style>\n",
       "<table border=\"1\" class=\"dataframe\">\n",
       "  <thead>\n",
       "    <tr style=\"text-align: right;\">\n",
       "      <th></th>\n",
       "      <th>regularity</th>\n",
       "      <th>Count</th>\n",
       "    </tr>\n",
       "  </thead>\n",
       "  <tbody>\n",
       "    <tr>\n",
       "      <th>0</th>\n",
       "      <td>1</td>\n",
       "      <td>70</td>\n",
       "    </tr>\n",
       "    <tr>\n",
       "      <th>1</th>\n",
       "      <td>2</td>\n",
       "      <td>44</td>\n",
       "    </tr>\n",
       "    <tr>\n",
       "      <th>2</th>\n",
       "      <td>3</td>\n",
       "      <td>3</td>\n",
       "    </tr>\n",
       "    <tr>\n",
       "      <th>3</th>\n",
       "      <td>4</td>\n",
       "      <td>7</td>\n",
       "    </tr>\n",
       "    <tr>\n",
       "      <th>4</th>\n",
       "      <td>5</td>\n",
       "      <td>8</td>\n",
       "    </tr>\n",
       "  </tbody>\n",
       "</table>\n",
       "</div>"
      ],
      "text/plain": [
       "   regularity  Count\n",
       "0           1     70\n",
       "1           2     44\n",
       "2           3      3\n",
       "3           4      7\n",
       "4           5      8"
      ]
     },
     "execution_count": 29,
     "metadata": {},
     "output_type": "execute_result"
    }
   ],
   "source": [
    "reg_groups_2 = sart_data.groupby(['regularity'], sort=True).size().reset_index(name='Count')\n",
    "reg_groups_2"
   ]
  },
  {
   "cell_type": "markdown",
   "id": "a68f18df",
   "metadata": {},
   "source": [
    "Group sizes are too small and/ or not equal. Further analyses cannot be performed."
   ]
  },
  {
   "cell_type": "markdown",
   "id": "80e1c5b0",
   "metadata": {},
   "source": [
    "### Duration\n",
    "#### Frequencies in duration groups"
   ]
  },
  {
   "cell_type": "code",
   "execution_count": 30,
   "id": "bbd5b419",
   "metadata": {
    "scrolled": true
   },
   "outputs": [
    {
     "data": {
      "text/html": [
       "<div>\n",
       "<style scoped>\n",
       "    .dataframe tbody tr th:only-of-type {\n",
       "        vertical-align: middle;\n",
       "    }\n",
       "\n",
       "    .dataframe tbody tr th {\n",
       "        vertical-align: top;\n",
       "    }\n",
       "\n",
       "    .dataframe thead th {\n",
       "        text-align: right;\n",
       "    }\n",
       "</style>\n",
       "<table border=\"1\" class=\"dataframe\">\n",
       "  <thead>\n",
       "    <tr style=\"text-align: right;\">\n",
       "      <th></th>\n",
       "      <th>duration</th>\n",
       "      <th>Count</th>\n",
       "    </tr>\n",
       "  </thead>\n",
       "  <tbody>\n",
       "    <tr>\n",
       "      <th>0</th>\n",
       "      <td>0</td>\n",
       "      <td>70</td>\n",
       "    </tr>\n",
       "    <tr>\n",
       "      <th>1</th>\n",
       "      <td>1</td>\n",
       "      <td>59</td>\n",
       "    </tr>\n",
       "    <tr>\n",
       "      <th>2</th>\n",
       "      <td>2</td>\n",
       "      <td>3</td>\n",
       "    </tr>\n",
       "  </tbody>\n",
       "</table>\n",
       "</div>"
      ],
      "text/plain": [
       "   duration  Count\n",
       "0         0     70\n",
       "1         1     59\n",
       "2         2      3"
      ]
     },
     "execution_count": 30,
     "metadata": {},
     "output_type": "execute_result"
    }
   ],
   "source": [
    "dur_groups_2 = sart_data.groupby(['duration'], sort=True).size().reset_index(name='Count')\n",
    "dur_groups_2"
   ]
  },
  {
   "cell_type": "markdown",
   "id": "e0da82e3",
   "metadata": {},
   "source": [
    "Group sizes are too small and/ or not equal. Further analyses cannot be performed."
   ]
  }
 ],
 "metadata": {
  "kernelspec": {
   "display_name": "Python 3 (ipykernel)",
   "language": "python",
   "name": "python3"
  },
  "language_info": {
   "codemirror_mode": {
    "name": "ipython",
    "version": 3
   },
   "file_extension": ".py",
   "mimetype": "text/x-python",
   "name": "python",
   "nbconvert_exporter": "python",
   "pygments_lexer": "ipython3",
   "version": "3.9.18"
  }
 },
 "nbformat": 4,
 "nbformat_minor": 5
}
